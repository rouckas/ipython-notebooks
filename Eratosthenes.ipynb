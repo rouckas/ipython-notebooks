{
 "metadata": {
  "name": "",
  "signature": "sha256:b36fdbb1b8f12ff6cf6c6b181511fb6ddd5b3c08c564f959b142cf7f45829a26"
 },
 "nbformat": 3,
 "nbformat_minor": 0,
 "worksheets": [
  {
   "cells": [
    {
     "cell_type": "markdown",
     "metadata": {},
     "source": [
      "Benchmark code from\n",
      "http://implicitnone.com/fortran-vs-python/\n",
      "\n",
      "Tested on Intel Core i7 CPU 940 @ 2.93GHz, python 3.4, gfortran 4.8.2, pypy 2.2 (Ubuntu 14.04 packages)"
     ]
    },
    {
     "cell_type": "code",
     "collapsed": false,
     "input": [
      "%%time\n",
      "max=10000000\n",
      "\n",
      "for k in range(1, 2):\n",
      "    product = [0] * (max + 2)\n",
      "    numprime=0\n",
      "    imax = int(round(max**0.5))\n",
      "    for i in range(2, imax+1):\n",
      "        if product[i] == 0:\n",
      "            jmax = int(max/i)\n",
      "            for j in range(2, jmax+1):\n",
      "                product[i*j]=1\n",
      "    for i in range(2, max+1):\n",
      "        if product[i] == 0:\n",
      "            numprime=numprime+1\n",
      "    product[:] = []\n",
      "    print(numprime)\n"
     ],
     "language": "python",
     "metadata": {},
     "outputs": [
      {
       "output_type": "stream",
       "stream": "stdout",
       "text": [
        "664579\n",
        "CPU times: user 5.75 s, sys: 20 ms, total: 5.77 s\n",
        "Wall time: 5.77 s\n"
       ]
      }
     ],
     "prompt_number": 6
    },
    {
     "cell_type": "markdown",
     "metadata": {},
     "source": [
      "This same code in PyPy takes 600 ms per loop."
     ]
    },
    {
     "cell_type": "code",
     "collapsed": false,
     "input": [
      "import numpy as np"
     ],
     "language": "python",
     "metadata": {},
     "outputs": [],
     "prompt_number": 3
    },
    {
     "cell_type": "markdown",
     "metadata": {},
     "source": [
      "Numpy implementation of the same code"
     ]
    },
    {
     "cell_type": "code",
     "collapsed": false,
     "input": [
      "%%time\n",
      "max=10000000\n",
      "\n",
      "for k in range(1):\n",
      "    product = np.ones(max + 1, dtype=bool)\n",
      "    imax = int((max**0.5))\n",
      "    for i in range(2, imax+1):\n",
      "        if product[i]:\n",
      "            jmax = max//i\n",
      "            j = np.arange(2, jmax+1)\n",
      "            product[i*j]=False\n",
      "    numprime = np.count_nonzero(product)-2\n",
      "    print(numprime)"
     ],
     "language": "python",
     "metadata": {},
     "outputs": [
      {
       "output_type": "stream",
       "stream": "stdout",
       "text": [
        "664579\n",
        "CPU times: user 206 ms, sys: 23.9 ms, total: 229 ms\n",
        "Wall time: 229 ms\n"
       ]
      }
     ],
     "prompt_number": 7
    },
    {
     "cell_type": "markdown",
     "metadata": {},
     "source": [
      "Second run of each calculation is shown. For reference, the runtime of the fortran code\n",
      "\n",
      "```fortran\n",
      "    program primes\n",
      "    implicit none\n",
      "    integer, parameter :: max=10000000 ! Search for primes up to 10^7\n",
      "    integer :: i, j, k, product(max), imax, jmax, numprime\n",
      "\n",
      "    do k=1,100\t\t  ! 100 iterations of the calculation\n",
      "       do i = 1, max\n",
      "          product(i) = 0\n",
      "       enddo\n",
      "       numprime=0\n",
      "\n",
      "       imax = floor(sqrt(real(max)))\n",
      "       do i = 2, imax\n",
      "          if (product(i) == 0) then\n",
      "             jmax = max/i\n",
      "             do j = 2, jmax\n",
      "                product(i*j) = 1\n",
      "             enddo\n",
      "          end if\n",
      "       end do\n",
      "\n",
      "       do i = 2, max\n",
      "          if (product(i) == 0) then\n",
      "             numprime = numprime + 1\n",
      "          end if\n",
      "       enddo\n",
      "\n",
      "       print *, 'Number of primes  = ',numprime\n",
      "    enddo\n",
      "\n",
      "    end program primes\n",
      "```\n",
      "\n",
      "compiled with gfortran -O3 is 16.2 s. That is 162 ms per loop."
     ]
    },
    {
     "cell_type": "code",
     "collapsed": false,
     "input": [
      "import matplotlib.pyplot as plt\n",
      "i = arange(4)\n",
      "times = array([5770, 600, 229, 162])\n",
      "bars = plt.bar(i+.1, times, 0.8)\n",
      "xticks(i+.5, (\"python\", \"pypy\", \"python+numpy\", \"fortran\"))\n",
      "for j, time, color in zip(i, times, (\"blue\", \"magenta\", \"green\", \"yellow\")):\n",
      "    bars[j].set_facecolor(color)\n",
      "    text(j+0.3, time+50, \"%d ms\" % time)\n",
      "ylim([0,6200])"
     ],
     "language": "python",
     "metadata": {},
     "outputs": [
      {
       "metadata": {},
       "output_type": "pyout",
       "prompt_number": 28,
       "text": [
        "(0, 6200)"
       ]
      },
      {
       "metadata": {},
       "output_type": "display_data",
       "png": "[encoded data removed]",
       "text": [
        "<matplotlib.figure.Figure at 0x7f3d318936d8>"
       ]
      }
     ],
     "prompt_number": 28
    },
    {
     "cell_type": "code",
     "collapsed": false,
     "input": [
      "bar1.s"
     ],
     "language": "python",
     "metadata": {},
     "outputs": []
    }
   ],
   "metadata": {}
  }
 ]
}