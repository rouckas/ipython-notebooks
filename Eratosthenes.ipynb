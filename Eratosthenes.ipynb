{
 "metadata": {
  "name": "",
  "signature": "sha256:5d94b51ffcf547a722b2ec4c67a49cbd59a96f08fcefe4887fe6ff6ed954263d"
 },
 "nbformat": 3,
 "nbformat_minor": 0,
 "worksheets": [
  {
   "cells": [
    {
     "cell_type": "markdown",
     "metadata": {},
     "source": [
      "Benchmark code from\n",
      "http://implicitnone.com/fortran-vs-python/"
     ]
    },
    {
     "cell_type": "code",
     "collapsed": false,
     "input": [
      "%%time\n",
      "max=100000000\n",
      "\n",
      "for k in range(1, 2):\n",
      "    product = [0] * (max + 2)\n",
      "    numprime=0\n",
      "    imax = int(round(max**0.5))\n",
      "    for i in range(2, imax+1):\n",
      "        if product[i] == 0:\n",
      "            jmax = int(max/i)\n",
      "            for j in range(2, jmax+1):\n",
      "                product[i*j]=1\n",
      "    for i in range(2, max+1):\n",
      "        if product[i] == 0:\n",
      "            numprime=numprime+1\n",
      "    product[:] = []\n",
      "    print(numprime)\n"
     ],
     "language": "python",
     "metadata": {},
     "outputs": [
      {
       "output_type": "stream",
       "stream": "stdout",
       "text": [
        "5761455\n",
        "CPU times: user 1min 5s, sys: 476 ms, total: 1min 5s\n",
        "Wall time: 1min 5s\n"
       ]
      }
     ],
     "prompt_number": 2
    },
    {
     "cell_type": "code",
     "collapsed": false,
     "input": [
      "import numpy as np"
     ],
     "language": "python",
     "metadata": {},
     "outputs": [],
     "prompt_number": 3
    },
    {
     "cell_type": "markdown",
     "metadata": {},
     "source": [
      "Numpy implementation of the same code"
     ]
    },
    {
     "cell_type": "code",
     "collapsed": false,
     "input": [
      "%%time\n",
      "max=100000000\n",
      "\n",
      "for k in range(1):\n",
      "    product = np.ones(max + 1, dtype=bool)\n",
      "    imax = int((max**0.5))\n",
      "    for i in range(2, imax+1):\n",
      "        if product[i]:\n",
      "            jmax = max//i\n",
      "            j = np.arange(2, jmax+1)\n",
      "            product[i*j]=False\n",
      "    numprime = np.count_nonzero(product)-2\n",
      "    print(numprime)"
     ],
     "language": "python",
     "metadata": {},
     "outputs": [
      {
       "output_type": "stream",
       "stream": "stdout",
       "text": [
        "5761455\n",
        "CPU times: user 2.47 s, sys: 488 ms, total: 2.95 s\n",
        "Wall time: 2.96 s\n"
       ]
      }
     ],
     "prompt_number": 5
    },
    {
     "cell_type": "markdown",
     "metadata": {},
     "source": [
      "Second run of each calculation is shown"
     ]
    }
   ],
   "metadata": {}
  }
 ]
}