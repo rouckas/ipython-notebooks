{
 "metadata": {
  "name": "",
  "signature": "sha256:d371ca2ff3d1c704653c983183026eb58e9b32236939098408ecdf137dc33dbb"
 },
 "nbformat": 3,
 "nbformat_minor": 0,
 "worksheets": [
  {
   "cells": [
    {
     "cell_type": "code",
     "collapsed": false,
     "input": [
      "%matplotlib inline\n",
      "from pylab import *\n",
      "from numpy import *"
     ],
     "language": "python",
     "metadata": {},
     "outputs": [],
     "prompt_number": 1
    },
    {
     "cell_type": "code",
     "collapsed": false,
     "input": [
      "kB = 1.3806488e-23  # m^2 kg s^-2 K^-1\n",
      "h = 6.62606957e-34  # m^2 kg s^-1\n",
      "c = 299792458.      # m s^-1\n",
      "NA = 6.0221413e+23  # mol^-1\n",
      "kcal = 4184         # J\n",
      "e0 = 1.60217657e-19 # C"
     ],
     "language": "python",
     "metadata": {},
     "outputs": [],
     "prompt_number": 2
    },
    {
     "cell_type": "code",
     "collapsed": false,
     "input": [
      "def kcalmol2joule(Ekm):\n",
      "    return Ekm/NA*kcal\n",
      "def kcalmol2eV(Ekm):\n",
      "    return Ekm/NA*kcal/e0\n",
      "def kJmol2eV(EkJ):\n",
      "    return EkJ/NA*1000/e0"
     ],
     "language": "python",
     "metadata": {},
     "outputs": [],
     "prompt_number": 3
    },
    {
     "cell_type": "code",
     "collapsed": false,
     "input": [
      "enthalpies = \\\n",
      "    {\n",
      "        \"H2O\" : -241.83,\n",
      "        \"OH\" : 38.99,\n",
      "        \"OD\" : 36.60,\n",
      "        \"H\" : 218.00,\n",
      "        \"D\" : 221.72,\n",
      "        \"O\" : 249.18,\n",
      "        \"O2\" : 0.0,\n",
      "        \"H2\" : 0.0,\n",
      "        \"D2\" : 0.0,\n",
      "        \"HD\" : 0.32,\n",
      "        \"H3O-\" : -169, # +-17\n",
      "        \"HO2\" : 3.9, # +-0.5\n",
      "    }        # [kJ/mol]\n",
      "\n",
      "affinities = \\\n",
      "    {\n",
      "        \"H2O\" : 1.2,\n",
      "        \"OH\" : 1.82767,\n",
      "        \"OD\" : 1.82554,\n",
      "        \"O\" : 1.461,\n",
      "        \"O2\" : 0.45,\n",
      "        \"H\" : .755,\n",
      "        \"H3O\" : 1.530,\n",
      "        \"HO2\" : 1.078,\n",
      "\n",
      "    }       # [eV]\n",
      "\n",
      "ionization_p = \\\n",
      "    {\n",
      "        \"OH\" : 13.00,\n",
      "        \"D\" : 13.602,\n",
      "    }       # [eV]\n",
      "\n",
      "DH = {}\n",
      "\n",
      "for key in enthalpies:\n",
      "    DH[key] = kJmol2eV(enthalpies[key])\n",
      "    if affinities.has_key(key):\n",
      "        DH[key+\"-\"] = DH[key]-affinities[key]\n",
      "    if ionization_p.has_key(key):\n",
      "        DH[key+\"+\"] = DH[key]+ionization_p[key]\n",
      "\n",
      "class Reaction:\n",
      "    def __init__(self, reactants, products):\n",
      "        self.reactants = reactants\n",
      "        self.products = products\n",
      "        self.DH = sum([DH[i] for i in products]) - sum([DH[i] for i in reactants])\n",
      "\n",
      "    def __str__(self):\n",
      "        str = \" + \".join(self.reactants) + \" -> \" + \" + \".join(self.products)\n",
      "        return str + \" \"*(35-len(str)) + \"\\t DH = %.3f eV\" % self.DH"
     ],
     "language": "python",
     "metadata": {},
     "outputs": [],
     "prompt_number": 14
    },
    {
     "cell_type": "code",
     "collapsed": false,
     "input": [
      "print Reaction(['H2O-', 'H2'],  ['O-', 'H2', 'H2'])\n",
      "print Reaction(['OH-', 'H2'],  ['H-', 'H2O'])\n",
      "print Reaction(['OH-', 'H2'],  ['H2O-', 'H'])\n",
      "print Reaction(['H2O-'],  ['O-', 'H2'])\n",
      "print Reaction(['H2O-', 'O'],  ['O2-', 'H2'])\n",
      "print Reaction(['H2O-', 'O'],  ['O-', 'H2O'])\n",
      "print Reaction(['H2O-', 'OH'],  ['OH-', 'H2O'])\n",
      "print Reaction(['OH-', 'D2'],  ['OD-', 'HD'])\n",
      "print Reaction(['OD-', 'H2'],  ['OH-', 'HD'])\n",
      "print Reaction(['D2'],  ['D', 'D'])\n",
      "print Reaction(['H2'],  ['H', 'H'])\n",
      "print Reaction(['HD'],  ['H', 'D'])\n"
     ],
     "language": "python",
     "metadata": {},
     "outputs": [
      {
       "output_type": "stream",
       "stream": "stdout",
       "text": [
        "H2O- + H2 -> O- + H2 + H2          \t DH = 4.828 eV\n",
        "OH- + H2 -> H- + H2O               \t DH = 0.422 eV\n",
        "OH- + H2 -> H2O- + H               \t DH = -0.023 eV\n",
        "H2O- -> O- + H2                    \t DH = 4.828 eV\n",
        "H2O- + O -> O2- + H2               \t DH = 0.674 eV\n",
        "H2O- + O -> O- + H2O               \t DH = -0.261 eV\n",
        "H2O- + OH -> OH- + H2O             \t DH = -0.628 eV\n",
        "OH- + D2 -> OD- + HD               \t DH = -0.019 eV\n",
        "OD- + H2 -> OH- + HD               \t DH = 0.026 eV\n",
        "D2 -> D + D                        \t DH = 4.596 eV\n",
        "H2 -> H + H                        \t DH = 4.519 eV\n",
        "HD -> H + D                        \t DH = 4.554 eV\n"
       ]
      }
     ],
     "prompt_number": 9
    },
    {
     "cell_type": "code",
     "collapsed": false,
     "input": [
      "D0_OHm_OH = 1.19\n",
      "D0_Om_H2O_mean = 0.5*(1.08 + 1.30)\n",
      "\n",
      "DH[\"OH-(OH)\"] = DH[\"O-\"] + DH[\"H2O\"] - D0_OHm_OH\n",
      "DH[\"O-(H2O)\"] = DH[\"O-\"] + DH[\"H2O\"] - D0_Om_H2O_mean"
     ],
     "language": "python",
     "metadata": {},
     "outputs": [],
     "prompt_number": 15
    },
    {
     "cell_type": "code",
     "collapsed": false,
     "input": [
      "print Reaction([\"H3O-\", \"O2\"], [\"OH\", \"O-(H2O)\"])\n",
      "print Reaction([\"H3O-\", \"O2\"], [\"H2O\", \"HO2-\"])"
     ],
     "language": "python",
     "metadata": {},
     "outputs": [
      {
       "output_type": "stream",
       "stream": "stdout",
       "text": [
        "H3O- + O2 -> OH + O-(H2O)          \t DH = -0.419 eV\n",
        "H3O- + O2 -> H2O + HO2-            \t DH = -1.792 eV\n"
       ]
      }
     ],
     "prompt_number": 17
    },
    {
     "cell_type": "code",
     "collapsed": false,
     "input": [],
     "language": "python",
     "metadata": {},
     "outputs": []
    }
   ],
   "metadata": {}
  }
 ]
}