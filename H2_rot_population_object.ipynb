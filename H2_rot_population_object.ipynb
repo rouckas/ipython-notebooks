{
 "cells": [
  {
   "cell_type": "markdown",
   "metadata": {},
   "source": [
    "Notebook calculating the rotational population of normal H$_2$"
   ]
  },
  {
   "cell_type": "code",
   "execution_count": 1,
   "metadata": {
    "collapsed": false
   },
   "outputs": [],
   "source": [
    "%matplotlib inline\n",
    "from pylab import *\n",
    "from numpy import *"
   ]
  },
  {
   "cell_type": "code",
   "execution_count": 2,
   "metadata": {
    "collapsed": false
   },
   "outputs": [],
   "source": [
    "kB = 1.3806488e-23  # m^2 kg s^-2 K^-1\n",
    "h = 6.62606957e-34  # m^2 kg s^-1\n",
    "c = 299792458.      # m s^-1\n",
    "eV2cm = 8065.54445  # http://physics.nist.gov/Pubs/AtSpec/node01.html\n",
    "cm2J = 100*h*c"
   ]
  },
  {
   "cell_type": "code",
   "execution_count": 3,
   "metadata": {
    "collapsed": false
   },
   "outputs": [],
   "source": [
    "class Diatom:\n",
    "    def __init__(self, omega_e = 0.0, omega_x_e = 0.0, omega_y_e = 0.0, B_e = 0.0,\\\n",
    "            alpha_e = 0.0, D_e = 0.0, Jmax=10):\n",
    "        self.omega_e, self.omega_x_e = omega_e, omega_x_e\n",
    "        self.omega_y_e = omega_y_e\n",
    "        self.B_e, self.alpha_e, self.D_e = B_e, alpha_e, D_e\n",
    "        self.Jmax=10\n",
    "\n",
    "    def F(self, J, v=0):\n",
    "        B = self.B_e - self.alpha_e*(v+0.5)\n",
    "        D = self.D_e\n",
    "        return B*J*(J+1) - D*(J*(J+1))**2\n",
    "\n",
    "    def G(self, v):\n",
    "        Y00 = self.B_e/4.+self.alpha_e*self.omega_e/(12*self.B_e) +\\\n",
    "                (self.alpha_e*self.omega_e)**2 / (144*self.B_e**3) - self.omega_x_e/4\n",
    "        return Y00 + self.omega_e*(v+0.5)-self.omega_x_e*(v+0.5)**2+self.omega_y_e*(v+0.5)**3\n",
    "\n",
    "    def _bfactor(self, T, J):\n",
    "        return (2*J+1)*exp(-self.F(J)*cm2J/(kB*T))\n",
    "\n",
    "    def Z(self, T):\n",
    "        return sum(self._bfactor(T, arange(self.Jmax)), axis=1)\n",
    "\n",
    "    def N(self, T, J):\n",
    "        return self._bfactor(T, J)/self.Z(T)"
   ]
  },
  {
   "cell_type": "code",
   "execution_count": 4,
   "metadata": {
    "collapsed": false
   },
   "outputs": [],
   "source": [
    "class Hydrogen(Diatom):\n",
    "    def __init__(self, *args):\n",
    "        Diatom.__init__(self, *args)\n",
    "        self.go = 3\n",
    "        self.gp = 1\n",
    "        self.T = -1.\n",
    "\n",
    "    def set_temp(self, T):\n",
    "        self.f_o = self.Zo(T)/(self.Zo(T)+self.Zp(T))\n",
    "        self.T = T\n",
    "\n",
    "    def p(self, J):\n",
    "        return J % 2 == 0\n",
    "    \n",
    "    def o(self, J):\n",
    "        return (J+1) % 2 == 0\n",
    "    \n",
    "    def _bfactor(self, T, J):\n",
    "        T, J = array(T), atleast_1d(J)\n",
    "        return exp(-outer(cm2J/(kB*T), self.F(J)))*\\\n",
    "            array((2*J+1)*(self.p(J)*self.gp + self.o(J)*self.go))[None, :]\n",
    "    \n",
    "    def Zo(self, T):\n",
    "        J = arange(self.Jmax)\n",
    "        Jo = J[self.o(J)]\n",
    "        return sum(self._bfactor(T, Jo), axis=1)\n",
    "    \n",
    "    def Zp(self, T):\n",
    "        J = arange(self.Jmax)\n",
    "        Jp = J[self.p(J)]\n",
    "        return sum(self._bfactor(T, Jp), axis=1)\n",
    "    \n",
    "    def N(self, T, J):\n",
    "        iZop = outer((1-self.f_o)/self.Zp(T), self.p(J)) +\\\n",
    "            outer(self.f_o/self.Zo(T), self.o(J))\n",
    "        return self._bfactor(T, J)*iZop "
   ]
  },
  {
   "cell_type": "code",
   "execution_count": 5,
   "metadata": {
    "collapsed": false
   },
   "outputs": [],
   "source": [
    "H2 = Hydrogen(4401.213, 121.336, 0.8129, 60.8530, 3.0622, 4.71e-2)\n",
    "H2.set_temp(300.)"
   ]
  },
  {
   "cell_type": "markdown",
   "metadata": {},
   "source": [
    "The partition function can be written as a sum of ortho and para partition functions:\n",
    "$$Z_o(T) = \\sum_{J\\rm odd} (2J+1)g_o\\exp\\left(-\\frac{E_J}{k_BT}\\right);\\quad g_o=3$$\n",
    "$$Z_p(T) = \\sum_{J\\rm even} (2J+1)g_p\\exp\\left(-\\frac{E_J}{k_BT}\\right);\\quad g_p=1$$\n",
    "$$Z(T) = Z_o(T) + Z_p(T)$$"
   ]
  },
  {
   "cell_type": "code",
   "execution_count": 6,
   "metadata": {
    "collapsed": false
   },
   "outputs": [
    {
     "data": {
      "text/plain": [
       "<matplotlib.legend.Legend at 0x7fa958534390>"
      ]
     },
     "execution_count": 6,
     "metadata": {},
     "output_type": "execute_result"
    },
    {
     "data": {
      "image/png": "[encoded data removed]",
      "text/plain": [
       "<matplotlib.figure.Figure at 0x7fa95a5d2eb8>"
      ]
     },
     "metadata": {},
     "output_type": "display_data"
    }
   ],
   "source": [
    "# equilibrium concentrations of para/ortho D2\n",
    "T = linspace(1, 300)\n",
    "plot(T, H2.Zo(T)/H2.Z(T), label=\"ortho\")\n",
    "plot(T, H2.Zp(T)/H2.Z(T), label=\"para\")\n",
    "xlabel(\"T [K]\")\n",
    "ylabel(\"f\")\n",
    "legend()"
   ]
  },
  {
   "cell_type": "code",
   "execution_count": 7,
   "metadata": {
    "collapsed": false
   },
   "outputs": [],
   "source": [
    "# fractions in normal H2\n",
    "H2.set_temp(300.)"
   ]
  },
  {
   "cell_type": "code",
   "execution_count": 8,
   "metadata": {
    "collapsed": false
   },
   "outputs": [
    {
     "data": {
      "image/png": "[encoded data removed]",
      "text/plain": [
       "<matplotlib.figure.Figure at 0x7fa9584ffd68>"
      ]
     },
     "metadata": {},
     "output_type": "display_data"
    }
   ],
   "source": [
    "T = linspace(1, 300, 10)\n",
    "for i in range(6):\n",
    "    fmt = \":\" if H2.o(i) else \"-\"\n",
    "    plot(T, H2.N(T, i), fmt, label=\"J = %d\"%i)\n",
    "xlabel(\"T [K]\")\n",
    "ylabel(\"relative fraction\")\n",
    "legend()\n",
    "savefig(\"fraction.pdf\")"
   ]
  },
  {
   "cell_type": "code",
   "execution_count": 11,
   "metadata": {
    "collapsed": false
   },
   "outputs": [],
   "source": [
    "outdata = T\n",
    "for i in range(6):\n",
    "    outdata = vstack((outdata, H2.N(T, i).T))\n",
    "savetxt(\"rotlevels.txt\", outdata.T)\n",
    "\n",
    "T = linspace(1, 300)\n",
    "outdata = np.vstack((T, H2.Zo(T)/H2.Z(T), H2.Zp(T)/H2.Z(T)))\n",
    "savetxt(\"orthopara.txt\", outdata.T)\n"
   ]
  },
  {
   "cell_type": "code",
   "execution_count": null,
   "metadata": {
    "collapsed": false
   },
   "outputs": [],
   "source": []
  }
 ],
 "metadata": {
  "kernelspec": {
   "display_name": "Python 3",
   "language": "python",
   "name": "python3"
  },
  "language_info": {
   "codemirror_mode": {
    "name": "ipython",
    "version": 3
   },
   "file_extension": ".py",
   "mimetype": "text/x-python",
   "name": "python",
   "nbconvert_exporter": "python",
   "pygments_lexer": "ipython3",
   "version": "3.5.1+"
  }
 },
 "nbformat": 4,
 "nbformat_minor": 0
}
