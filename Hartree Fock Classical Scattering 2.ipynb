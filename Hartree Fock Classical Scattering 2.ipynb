{
 "metadata": {
  "name": "",
  "signature": "sha256:f74395f36095e255c029095a9c9a48b7bda8f49e94b787ef9e1a4260d71987e0"
 },
 "nbformat": 3,
 "nbformat_minor": 0,
 "worksheets": [
  {
   "cells": [
    {
     "cell_type": "code",
     "collapsed": false,
     "input": [
      "import numpy as np\n",
      "from scipy.interpolate import interp1d\n",
      "from scipy.optimize import brentq\n",
      "from scipy.integrate import quad\n",
      "import matplotlib.pyplot as plt\n",
      "def midpoint(x): return 0.5*(x[1:]+x[:-1])\n",
      "\n",
      "%matplotlib inline\n",
      "plt.rcParams[\"mathtext.fontset\"] = \"stixsans\""
     ],
     "language": "python",
     "metadata": {},
     "outputs": [],
     "prompt_number": 263
    },
    {
     "cell_type": "code",
     "collapsed": false,
     "input": [
      "from scipy.constants import physical_constants, elementary_charge, atomic_mass, k\n",
      "Ha2eV = physical_constants[\"hartree-electron volt relationship\"][0]\n",
      "Ha2J = physical_constants[\"hartree-joule relationship\"][0]\n",
      "eV = elementary_charge\n",
      "\n",
      "M_He = 4.00260325*atomic_mass\n",
      "M_H = 1.007825037*atomic_mass\n",
      "mu = M_He*M_H/(M_He + M_H)"
     ],
     "language": "python",
     "metadata": {},
     "outputs": [],
     "prompt_number": 281
    },
    {
     "cell_type": "markdown",
     "metadata": {},
     "source": [
      "##Calculate He - H potential energy surface using Psi4"
     ]
    },
    {
     "cell_type": "code",
     "collapsed": false,
     "input": [
      "%%writefile HeH_dimer.dat\n",
      "memory 250 mb\n",
      "\n",
      "molecule helium {\n",
      "  He\n",
      "}\n",
      "set reference uhf\n",
      "set basis 6-31G**\n",
      "e_G_He = energy('scf')\n",
      "set basis cc-pVDZ\n",
      "e_cc_He = energy('scf')\n",
      "\n",
      "molecule hydrogen {\n",
      "  H\n",
      "}\n",
      "set reference uhf\n",
      "set basis 6-31G**\n",
      "e_G_H = energy('scf')\n",
      "set basis cc-pVDZ\n",
      "e_cc_H = energy('scf')\n",
      "\n",
      "molecule dimer {\n",
      "  He\n",
      "  H 1 R\n",
      "}\n",
      "\n",
      "from numpy import logspace\n",
      "Rvals = logspace(-1, 2, 800)\n",
      "\n",
      "set reference uhf\n",
      "e_G = {}\n",
      "e_cc = {}\n",
      "\n",
      "for R in Rvals:\n",
      "  dimer.R = R\n",
      "  set basis 6-31G**\n",
      "  e_G[R] = energy('scf')\n",
      "  set basis cc-pVDZ\n",
      "  e_cc[R] = energy('scf')\n",
      "\n",
      "print(\"\\nUHF / 6-31G** / cc-pVDZ  HeH interaction energies\\n\")\n",
      "print(\"        R (Ang)      E_G (Ha)     E_cc (Ha)          \")\n",
      "print(\"-----------------------------------------------------\")\n",
      "for R in Rvals:\n",
      "  print(\"        %7.5f      %10.8g     %10.8g\" % \\\n",
      "    (R, (e_G[R]-e_G_H-e_G_He), (e_cc[R]-e_cc_H-e_cc_He)))"
     ],
     "language": "python",
     "metadata": {},
     "outputs": [
      {
       "output_type": "stream",
       "stream": "stdout",
       "text": [
        "Overwriting HeH_dimer.dat\n"
       ]
      }
     ],
     "prompt_number": 192
    },
    {
     "cell_type": "code",
     "collapsed": false,
     "input": [
      "!psi4 HeH_dimer.dat > HeH_PES.dat"
     ],
     "language": "python",
     "metadata": {},
     "outputs": [],
     "prompt_number": 193
    },
    {
     "cell_type": "code",
     "collapsed": false,
     "input": [
      "HeH_PES = np.loadtxt(\"HeH_PES.dat\", skiprows = 5)\n",
      "rdata = HeH_PES[:,0]*1e-10\n",
      "U_G = interp1d(rdata, HeH_PES[:,1]*Ha2J, kind=\"linear\", bounds_error=False, fill_value=0)\n",
      "U_cc = interp1d(rdata, HeH_PES[:,2]*Ha2J, kind=\"linear\", bounds_error=False, fill_value=0)"
     ],
     "language": "python",
     "metadata": {},
     "outputs": [],
     "prompt_number": 222
    },
    {
     "cell_type": "code",
     "collapsed": false,
     "input": [
      "plt.plot(rdata/1e-10, U_G(rdata)/eV, label=\"UHF/6-31G**\")\n",
      "plt.plot(rdata/1e-10, U_cc(rdata)/eV, \"--\", label=\"UHF/cc-pVDZ\")\n",
      "plt.ylim([-.0001, 100])\n",
      "plt.xlim([0, 6])\n",
      "plt.legend()\n",
      "plt.yscale(\"symlog\", linthreshy=.0001)\n",
      "plt.xlabel(\"He - H distance ($\\\\AA$)\")\n",
      "plt.ylabel(\"$V$ (eV)\")\n",
      "plt.grid()\n",
      "#U_G(rdata)/elementary_charge"
     ],
     "language": "python",
     "metadata": {},
     "outputs": [
      {
       "metadata": {},
       "output_type": "display_data",
       "png": "[encoded data removed]",
       "text": [
        "<matplotlib.figure.Figure at 0x7f6b501f69e8>"
       ]
      }
     ],
     "prompt_number": 244
    },
    {
     "cell_type": "markdown",
     "metadata": {},
     "source": [
      "##Calculate classical scattering on the He - H PES\n",
      "Angular momentum:\n",
      "$$J = m r^2\\dot\\Theta = mvb$$\n",
      "Radial energy equation\n",
      "$$\\frac{1}{2}m(\\dot r^2 + r^2\\dot\\Theta^2) + U(r) = E = T_0$$\n",
      "At closest approach $\\dot r(r_{\\rm min}) = 0$:\n",
      "$$\\frac{J^2}{2mr_{\\rm min}^2} + U(r_{\\rm min}) = T_0$$"
     ]
    },
    {
     "cell_type": "markdown",
     "metadata": {},
     "source": [
      "$$\\Theta = \\int_{r_{\\rm min}}^{\\infty} \\frac{J/r^2}{\\sqrt{2m\\left(E-U(r)-\\frac{J^2}{2mr^2}\\right)}}{\\rm d}r$$"
     ]
    },
    {
     "cell_type": "code",
     "collapsed": false,
     "input": [
      "def _scatter(b, T0, U, mu, rlims, eps=1e-13):\n",
      "    v = np.sqrt(2*T0/mu)\n",
      "    J = mu*v*b\n",
      "    def eq(r): return J**2/(2*mu*r**2) + U(r) - T0\n",
      "    r_min = brentq(eq, rlims[0], rlims[1], xtol=1e-30)\n",
      "    def func(r):\n",
      "        val = J/r**2 / np.sqrt(np.abs(2*mu*(T0-U(r)-J**2/(2*mu*r**2))))\n",
      "        return val\n",
      "    # integrate the singularity using weighted integration\n",
      "    I1 = quad(lambda x: func(x)*np.sqrt(x-r_min),\\\n",
      "              r_min+1e-22, 3*r_min, limit=200, weight=\"alg\", wvar=(-0.5, 0.))[0]\n",
      "    # substitute to make the infinite integration work\n",
      "    I2 = quad(lambda x: func(x/1e10), 3*r_min*1e10, np.inf, limit=200)[0]/1e10\n",
      "    theta = np.pi - 2*(I1+I2)\n",
      "    return theta\n",
      "scatter = np.vectorize(_scatter)\n",
      "scatter.excluded.add(4)"
     ],
     "language": "python",
     "metadata": {},
     "outputs": [],
     "prompt_number": 242
    },
    {
     "cell_type": "code",
     "collapsed": false,
     "input": [
      "bs = np.linspace(1e-18, .52e-9, 100)\n",
      "T0 = 1e-3*eV\n",
      "thetas_G = scatter(bs, T0, U_G, mu, [rdata[0], 1e-6])\n",
      "thetas_cc = scatter(bs, T0, U_cc, mu, [rdata[0], 1e-6])\n",
      "plt.plot(bs/1e-10, thetas_G, label=\"UHF/6-31G**\")\n",
      "plt.plot(bs/1e-10, thetas_cc, \"--\", label=\"UHF/cc-pVDZ\")\n",
      "plt.legend()\n",
      "plt.title(\"scattering angle at scattering energy %f eV\" % (T0/eV,))\n",
      "plt.xlim([0, bs[-1]/1e-10])\n",
      "plt.xlabel(\"$b$ ($\\\\AA$)\")\n",
      "plt.ylabel(\"$\\\\theta$ (rad)\")\n",
      "plt.grid()"
     ],
     "language": "python",
     "metadata": {},
     "outputs": [
      {
       "metadata": {},
       "output_type": "display_data",
       "png": "[encoded data removed]",
       "text": [
        "<matplotlib.figure.Figure at 0x7f6b50fd6e10>"
       ]
      }
     ],
     "prompt_number": 245
    },
    {
     "cell_type": "markdown",
     "metadata": {},
     "source": [
      "###Integrate momentum transfer cross section\n",
      "To obtain cross section:\n",
      "$$\\sigma(\\theta) = \\frac{b}{\\sin\\theta}\\left|\\frac{{\\rm d}b}{{\\rm d}\\theta}\\right|$$\n",
      "$$\\sigma_{\\rm m} = 2\\pi\\int_0^\\pi(1-\\cos\\theta)\\sigma(\\theta)\\sin\\theta{\\rm d}\\theta$$"
     ]
    },
    {
     "cell_type": "code",
     "collapsed": false,
     "input": [
      "def calculate_sigma_mom(U, T0, mu, brange=(0., 5e-10, 100), rlims=(rdata[0], rdata[-1])):\n",
      "    bs = np.linspace(*brange)\n",
      "    thetas = scatter2(bs, T0, U, mu, rlims)\n",
      "    \n",
      "    sigma = midpoint(bs)/np.sin(midpoint(thetas))*np.abs(np.diff(bs)/np.diff(thetas))\n",
      "    integrand = (1-np.cos(midpoint(thetas)))*sigma*np.sin(midpoint(thetas))\n",
      "    sigma_mom = 2*np.pi*np.sum(midpoint(integrand)*np.abs(np.diff(midpoint(thetas))))\n",
      "    return sigma_mom"
     ],
     "language": "python",
     "metadata": {},
     "outputs": [],
     "prompt_number": 264
    },
    {
     "cell_type": "code",
     "collapsed": false,
     "input": [
      "Es = np.outer(10.**np.arange(-5, 3), [1, 2, 5]).ravel()[:-2]*elementary_charge\n",
      "sigmas = []\n",
      "for T0 in Es:\n",
      "    sigma_mom_G = calculate_sigma_mom(U_G, T0, mu, brange=(0., 5e-10, 100))\n",
      "    sigma_mom_cc = calculate_sigma_mom(U_cc, T0, mu, brange=(0., 5e-10, 100))\n",
      "    sigmas.append([sigma_mom_G, sigma_mom_cc])\n",
      "    print(T0/elementary_charge, sigma_mom_G, sigma_mom_cc)\n",
      "sigmas = np.array(sigmas)"
     ],
     "language": "python",
     "metadata": {},
     "outputs": [
      {
       "output_type": "stream",
       "stream": "stdout",
       "text": [
        "1e-05 5.4250688261e-19 5.73121539976e-19\n",
        "2e-05"
       ]
      },
      {
       "output_type": "stream",
       "stream": "stdout",
       "text": [
        " 5.06170169438e-19 5.40580893915e-19\n",
        "5e-05"
       ]
      },
      {
       "output_type": "stream",
       "stream": "stdout",
       "text": [
        " 4.68983268356e-19 5.27929069744e-19\n",
        "0.0001"
       ]
      },
      {
       "output_type": "stream",
       "stream": "stdout",
       "text": [
        " 4.42038247383e-19 4.90807601756e-19\n",
        "0.0002"
       ]
      },
      {
       "output_type": "stream",
       "stream": "stdout",
       "text": [
        " 3.8590546132e-19 4.1893976558e-19\n",
        "0.0005"
       ]
      },
      {
       "output_type": "stream",
       "stream": "stdout",
       "text": [
        " 3.43869549436e-19 3.68209674032e-19\n",
        "0.001"
       ]
      },
      {
       "output_type": "stream",
       "stream": "stdout",
       "text": [
        " 3.18338628679e-19 3.3742309849e-19\n",
        "0.002"
       ]
      },
      {
       "output_type": "stream",
       "stream": "stdout",
       "text": [
        " 2.93224747468e-19 3.08028906583e-19\n",
        "0.005"
       ]
      },
      {
       "output_type": "stream",
       "stream": "stdout",
       "text": [
        " 2.58689966089e-19 2.68412003169e-19\n",
        "0.01"
       ]
      },
      {
       "output_type": "stream",
       "stream": "stdout",
       "text": [
        " 2.31648301872e-19 2.38185934912e-19\n",
        "0.02"
       ]
      },
      {
       "output_type": "stream",
       "stream": "stdout",
       "text": [
        " 2.0400504593e-19 2.08229820796e-19\n",
        "0.05"
       ]
      },
      {
       "output_type": "stream",
       "stream": "stdout",
       "text": [
        " 1.67437042389e-19 1.70135018725e-19\n",
        "0.1"
       ]
      },
      {
       "output_type": "stream",
       "stream": "stdout",
       "text": [
        " 1.406884412e-19 1.42730235836e-19\n",
        "0.2"
       ]
      },
      {
       "output_type": "stream",
       "stream": "stdout",
       "text": [
        " 1.15257734967e-19 1.16796087069e-19\n",
        "0.5"
       ]
      },
      {
       "output_type": "stream",
       "stream": "stdout",
       "text": [
        " 8.43082521377e-20 8.52319274558e-20\n",
        "1.0"
       ]
      },
      {
       "output_type": "stream",
       "stream": "stdout",
       "text": [
        " 6.32288824692e-20 6.38260920544e-20\n",
        "2.0"
       ]
      },
      {
       "output_type": "stream",
       "stream": "stdout",
       "text": [
        " 4.44477011319e-20 4.48973660633e-20\n",
        "5.0"
       ]
      },
      {
       "output_type": "stream",
       "stream": "stdout",
       "text": [
        " 2.41840820538e-20 2.45278506766e-20\n",
        "10.0"
       ]
      },
      {
       "output_type": "stream",
       "stream": "stdout",
       "text": [
        " 1.33808321541e-20 1.35251021813e-20\n",
        "20.0"
       ]
      },
      {
       "output_type": "stream",
       "stream": "stdout",
       "text": [
        " 6.85882300791e-21 6.8106718636e-21\n",
        "50.0"
       ]
      },
      {
       "output_type": "stream",
       "stream": "stdout",
       "text": [
        " 2.74199224485e-21 2.69365400341e-21\n",
        "100.0"
       ]
      },
      {
       "output_type": "stream",
       "stream": "stdout",
       "text": [
        " 1.32725561672e-21 1.30612989735e-21\n"
       ]
      }
     ],
     "prompt_number": 265
    },
    {
     "cell_type": "code",
     "collapsed": false,
     "input": [
      "#np.savetxt(\"sigma_He_H.dat\", np.hstack((Es[:,np.newaxis], sigmas)))\n",
      "CS = np.loadtxt(\"sigma_He_H.dat\")\n",
      "Es = CS[:,0]\n",
      "sigmas = CS[:,1:]"
     ],
     "language": "python",
     "metadata": {},
     "outputs": [],
     "prompt_number": 303
    },
    {
     "cell_type": "code",
     "collapsed": false,
     "input": [
      "plt.loglog(Es/elementary_charge, sigmas[:,0], \"-\", label=\"UHF/6-31G**\")\n",
      "plt.loglog(Es/elementary_charge, sigmas[:,1], \"--\", label=\"UHF/cc-pVDZ\")\n",
      "plt.plot(Es/elementary_charge, Es*0+sigma_sphere, \":\", lw=3, label=\"hard sphere\")\n",
      "plt.legend()\n",
      "plt.grid()\n",
      "plt.title(\"He - H momentum transfer cross section\")\n",
      "plt.xlabel(\"$E$ (eV)\")\n",
      "plt.ylabel(\"$\\\\sigma$ ($\\\\rm m^2$)\")"
     ],
     "language": "python",
     "metadata": {},
     "outputs": [
      {
       "metadata": {},
       "output_type": "pyout",
       "prompt_number": 311,
       "text": [
        "<matplotlib.text.Text at 0x7f6b4e7a6a20>"
       ]
      },
      {
       "metadata": {},
       "output_type": "display_data",
       "png": "[encoded data removed]",
       "text": [
        "<matplotlib.figure.Figure at 0x7f6b4e876048>"
       ]
      }
     ],
     "prompt_number": 311
    },
    {
     "cell_type": "markdown",
     "metadata": {},
     "source": [
      "##Integrate the rate coefficient"
     ]
    },
    {
     "cell_type": "code",
     "collapsed": false,
     "input": [
      "def mxw_v(v,T,M):\n",
      "    v_max = np.sqrt(2*k*T/M)\n",
      "    return np.exp(-v**2/v_max**2)/(v_max*np.sqrt(np.pi))**3*v**2*4*np.pi\n",
      "\n",
      "def rate_calc(E, sigma, T, mu):\n",
      "    # convert energy to velocity and calculate f(v)*sigma(v)*v\n",
      "    v = np.sqrt(2*E/mu)\n",
      "    fsigmav = sigma*v*mxw_v(v, T, mu)\n",
      "    \n",
      "    # approximate the integral by trapezoid rule\n",
      "    rate = sum(midpoint(fsigmav)*np.diff(v))\n",
      "    return rate"
     ],
     "language": "python",
     "metadata": {},
     "outputs": [],
     "prompt_number": 307
    },
    {
     "cell_type": "code",
     "collapsed": false,
     "input": [
      "Ts = np.logspace(0, 5, 100)\n",
      "CS_G = interp1d(CS[:,0], sigmas[:,0], bounds_error=False, fill_value=1e-18)\n",
      "CS_cc = interp1d(CS[:,0], sigmas[:,1], bounds_error=False, fill_value=1e-18)\n",
      "ks = []\n",
      "for T in Ts:\n",
      "    k_G = rate_calc(Enew, CS_G(Enew), T, mu)\n",
      "    k_cc = rate_calc(Enew, CS_cc(Enew), T, mu)\n",
      "    k_sphere = rate_calc(Enew, 0*Enew+sigma_sphere, T, mu)\n",
      "    ks.append([k_G, k_cc, k_sphere])\n",
      "                          \n",
      "ks = np.array(ks)\n",
      "np.savetxt(\"k_He_H.dat\", np.hstack((Ts[:,np.newaxis], ks)))"
     ],
     "language": "python",
     "metadata": {},
     "outputs": [],
     "prompt_number": 316
    },
    {
     "cell_type": "code",
     "collapsed": false,
     "input": [
      "plt.semilogx(Ts, ks[:,0]*1e6*1e9, \"-\", label=\"UHF/6-31G**\")\n",
      "plt.semilogx(Ts, ks[:,1]*1e6*1e9, \"--\", label=\"UHF/cc-pVDZ\")\n",
      "plt.semilogx(Ts, ks[:,2]*1e6*1e9, \":\", lw=2, label=\"hard sphere\")\n",
      "plt.legend(loc=\"upper left\")\n",
      "plt.xlabel(\"$T$ (K)\")\n",
      "plt.ylabel(\"$k$ ($10^{-9}\\\\rm cm^3 s^{-1}$)\")\n",
      "plt.title(\"He - H momentum transfer rate coefficient\")\n",
      "plt.grid()"
     ],
     "language": "python",
     "metadata": {},
     "outputs": [
      {
       "metadata": {},
       "output_type": "display_data",
       "png": "[encoded data removed]",
       "text": [
        "<matplotlib.figure.Figure at 0x7f6b501dcb38>"
       ]
      }
     ],
     "prompt_number": 315
    },
    {
     "cell_type": "code",
     "collapsed": false,
     "input": [],
     "language": "python",
     "metadata": {},
     "outputs": []
    }
   ],
   "metadata": {}
  }
 ]
}