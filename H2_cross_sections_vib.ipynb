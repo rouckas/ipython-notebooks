{
 "metadata": {
  "name": "",
  "signature": "sha256:d087d070a880a4ec296a022621cf1dcaa2e3e5704c0eb401a73e652a9e363e1d"
 },
 "nbformat": 3,
 "nbformat_minor": 0,
 "worksheets": [
  {
   "cells": [
    {
     "cell_type": "code",
     "collapsed": false,
     "input": [
      "%matplotlib inline\n",
      "from numpy import *\n",
      "from pylab import *"
     ],
     "language": "python",
     "metadata": {},
     "outputs": [],
     "prompt_number": 1
    },
    {
     "cell_type": "code",
     "collapsed": false,
     "input": [
      "#define a function for loading of cross sections from file\n",
      "def load_CS(fname, csname):\n",
      "    \"\"\"load collision cross section from the Phelps' database stored in file fname\n",
      "    http://jilawww.colorado.edu/~avp/collision_data/electronneutral/ELECTRON.TXT\n",
      "    \"\"\"\n",
      "    import re\n",
      "    fr = open(fname)\n",
      "    CS = []\n",
      "    \n",
      "    # find the CS in file\n",
      "    for line in fr:\n",
      "        if csname in line:\n",
      "            break\n",
      "    else:\n",
      "        raise RuntimeError(\"CS not found\")\n",
      "          \n",
      "    for line in fr:\n",
      "        if \"ENERGY LOSS =\" in line:\n",
      "            Eloss = float(re.search(\"ENERGY LOSS =\\s+(\\S+)\", line).group(1))\n",
      "        if \" ENERGY\" in line:\n",
      "            break\n",
      "            \n",
      "    for line in fr:\n",
      "        match = re.search(\"\\s+(\\S+)\\s+(\\S+)\\s+(\\S+)\", line)\n",
      "        if match:\n",
      "            CS.append([float(match.group(2)), float(match.group(3))])\n",
      "        else:\n",
      "            break\n",
      "            \n",
      "    CS = array(CS)\n",
      "    return Eloss, CS"
     ],
     "language": "python",
     "metadata": {},
     "outputs": [],
     "prompt_number": 2
    },
    {
     "cell_type": "code",
     "collapsed": false,
     "input": [
      "#load cross section of vibrational excitation\n",
      "fname = \"data/ELECTRON.TXT\"\n",
      "Eloss, CS = load_CS(fname, \"H2 V=1\")\n",
      "\n",
      "# resample to finer grid\n",
      "from scipy.interpolate import interp1d\n",
      "left = CS[:-1,0]\n",
      "right = CS[1:,0]\n",
      "points = left\n",
      "N_sub = 100\n",
      "for i in range(N_sub-1):\n",
      "    xnew = left + (right-left)*(i+1.)/N_sub\n",
      "    points = vstack((points, xnew))\n",
      "points = points.T.reshape((-1,1))\n",
      "data = interp1d(CS[:,0], CS[:,1])(points)\n",
      "CS = hstack((points, data))\n",
      "\n",
      "\n",
      "loglog(CS[:,0], CS[:,1])\n",
      "xlabel(r\"$E (\\rm eV)$\")\n",
      "ylabel(r\"$\\sigma (\\rm 10^{-20}m^2)$\")"
     ],
     "language": "python",
     "metadata": {},
     "outputs": [
      {
       "metadata": {},
       "output_type": "pyout",
       "prompt_number": 152,
       "text": [
        "<matplotlib.text.Text at 0x7f0c1b5524d0>"
       ]
      },
      {
       "metadata": {},
       "output_type": "display_data",
       "png": "[encoded data removed]",
       "text": [
        "<matplotlib.figure.Figure at 0x7f0c1b549d50>"
       ]
      }
     ],
     "prompt_number": 152
    },
    {
     "cell_type": "markdown",
     "metadata": {},
     "source": [
      "Detailed balance principle\n",
      "===\n",
      "In thermodynamic equilibrium, the rate \"r\" of a certain process and the rate $r'$ of its inverse must be the same, i.e.\n",
      "$$r = r'.$$\n",
      "Our process of interest is inelastic collision of electron\n",
      "$${\\rm e^- + A \\to e^- + B},\\quad\\Delta H.$$\n",
      "The equilibrium condition then reads\n",
      "$$k[{\\rm e^-}][{\\rm A}] = k'[{\\rm e^-}][{\\rm B}]$$\n",
      "In equilibrium, the concentrations will follow the Boltzmann distribution. In case that $\\rm A$ and $\\rm B$ are different vibrational states:\n",
      "$$\\frac{[{\\rm A}]}{[{\\rm B}]} = \\frac{\\exp(-E_A/k_BT)}{\\exp(-E_B/k_BT)} = \n",
      "\\exp\\left(\\frac{\\Delta H}{k_B T}\\right),$$\n",
      "where $\\Delta H = E_B-E_A$. Therefore, the equlibrium condition is\n",
      "$$\\frac{k'}{k} = \\exp\\left(\\frac{\\Delta H}{k_B T}\\right).\\qquad\\rm (DetBal)$$\n",
      "From this, also a condition for cross sections can be derived\n",
      "$$\\sigma'(E) = \\sigma(E-\\Delta H)\\frac{E-\\Delta H}{E},\\qquad\\rm (DetBalCS)$$\n",
      "where the cross sections are evaluated at such electron energies that correspond to the same total energy $E_{tot} = E_{electron}+E_{molecule}$. We may check the resulting cross section:"
     ]
    },
    {
     "cell_type": "code",
     "collapsed": false,
     "input": [
      "# obtain the cross section of the inverse process\n",
      "CS2 = CS.copy()\n",
      "CS2[:,0] = CS2[:,0] - Eloss\n",
      "CS2[:,1] *= (CS2[:,0]+Eloss)/(CS2[:,0])\n",
      "\n",
      "# set the sigma to zero at the undefined points\n",
      "good = CS2[:,0] > 0\n",
      "CS2 = CS2[good,:]\n",
      "CS2 = vstack((array([0,0]), CS2))\n",
      "\n",
      "# plot and save\n",
      "loglog(CS2[:,0], CS2[:,1])\n",
      "loglog(CS[:,0], CS[:,1])\n",
      "savetxt(\"V1_deexcitation.txt\", CS2)"
     ],
     "language": "python",
     "metadata": {},
     "outputs": [
      {
       "metadata": {},
       "output_type": "display_data",
       "png": "[encoded data removed]",
       "text": [
        "<matplotlib.figure.Figure at 0x7f0c1b7049d0>"
       ]
      }
     ],
     "prompt_number": 153
    },
    {
     "cell_type": "markdown",
     "metadata": {},
     "source": [
      "The (de)excitation rates\n",
      "===\n",
      "However, we are eventually more interested in the collision rate $k$, which is obtained by caluclating the average\n",
      "$\\langle\\sigma v\\rangle$\n",
      "over the distibution of collision velocities"
     ]
    },
    {
     "cell_type": "code",
     "collapsed": false,
     "input": [
      "#We can use Maxwell distribution for example\n",
      "M_EL =  9.109534e-31\n",
      "K_B = 1.380662e-23\n",
      "Q_EL = -1.602189e-19\n",
      "Q0 = -Q_EL\n",
      "AMU = 1.67e-27\n",
      "Te = 20000\n",
      "def mxw_v(v,T=Te,M=M_EL):\n",
      "    v_max = sqrt(2.0*K_B*T/M)\n",
      "    return exp(-v**2/v_max**2)/(v_max*sqrt(pi))**3*v**2*4*pi"
     ],
     "language": "python",
     "metadata": {},
     "outputs": [],
     "prompt_number": 154
    },
    {
     "cell_type": "code",
     "collapsed": false,
     "input": [
      "# function for calculation of reaction rates for maxwell distribution of electrons\n",
      "def rate_calc(CS, TeV):\n",
      "    from scipy.integrate import quad\n",
      "    from scipy.interpolate import interp1d\n",
      "\n",
      "    # obtain sigma as function of velocity\n",
      "    E = CS[:,0]\n",
      "    v = sqrt(2*E*Q0/M_EL)\n",
      "    #sigma = interp1d(v, CS[:,1])\n",
      "    \n",
      "    # convert energy to velocity and calculate f(v)*sigma(v)*v\n",
      "    #fsigmav = lambda v: sigma(v)*v*mxw_v(v, TeV*Q0/K_B, M_EL)\n",
      "    fsigmav = CS[:,1]*v*mxw_v(v, TeV*Q0/K_B, M_EL)\n",
      "    \n",
      "    # approximate the integral by trapezoid rule\n",
      "    left = arange(0, len(v)-1)\n",
      "    right = left+1\n",
      "    dv = v[right] - v[left]\n",
      "    rate = 0.5*sum(dv*(fsigmav[left]+fsigmav[right]))\n",
      "    #rate = quad(fsigmav, v[0], v[-1], points=(sqrt(2.0*TeV*Q0/M_EL), sqrt(2.0*0.52*Q0/M_EL),))[0]\n",
      "    # CS are in 1e-16 cm^2 = 1e-20 m^2\n",
      "    # [rate*1e-20] = m^3/s\n",
      "    # [rate*1e-20*1e6] = cm^3/s\n",
      "    rate = rate*1e-14\n",
      "    return rate"
     ],
     "language": "python",
     "metadata": {},
     "outputs": [],
     "prompt_number": 155
    },
    {
     "cell_type": "code",
     "collapsed": false,
     "input": [
      "Es = logspace(-3, 2)\n",
      "ks = zeros_like(Es)\n",
      "k2scalc = zeros_like(Es)\n",
      "\n",
      "\n",
      "for i in range(len(Es)):\n",
      "    ks[i] = rate_calc(CS, Es[i])\n",
      "    k2scalc[i] = rate_calc(CS2, Es[i])\n",
      "\n",
      "# we can confirm that the detailed balance holds by calculating\n",
      "# the deexcitation rate from \n",
      "k2s = ks*exp(Eloss/Es)\n",
      "print Eloss\n",
      "\n",
      "#print k2scalc\n",
      "loglog(Es, ks, label=\"excitation rate\")\n",
      "loglog(Es, k2s, label=\"deexcitation rate 1\")\n",
      "loglog(Es, k2scalc, label=\"deexcitation rate 2\")\n",
      "xlabel(r\"$T (\\rm eV)$\")\n",
      "ylabel(r\"$k (\\rm cm^3\\,s^{-1})$\")\n",
      "legend(loc=\"lower right\")\n",
      "ylim([1e-15, 1e-8])"
     ],
     "language": "python",
     "metadata": {},
     "outputs": [
      {
       "output_type": "stream",
       "stream": "stdout",
       "text": [
        "0.516\n"
       ]
      },
      {
       "metadata": {},
       "output_type": "pyout",
       "prompt_number": 156,
       "text": [
        "(1e-15, 1e-08)"
       ]
      },
      {
       "metadata": {},
       "output_type": "display_data",
       "png": "[encoded data removed]",
       "text": [
        "<matplotlib.figure.Figure at 0x7f0c1bc88b50>"
       ]
      }
     ],
     "prompt_number": 156
    },
    {
     "cell_type": "code",
     "collapsed": false,
     "input": [],
     "language": "python",
     "metadata": {},
     "outputs": []
    }
   ],
   "metadata": {}
  }
 ]
}