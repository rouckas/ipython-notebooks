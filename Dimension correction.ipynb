{
 "cells": [
  {
   "cell_type": "code",
   "execution_count": 1,
   "metadata": {
    "collapsed": false
   },
   "outputs": [],
   "source": [
    "from numpy import *\n",
    "from scipy.special import jn, yn, jvp, yvp, jn_zeros\n",
    "from scipy.constants import c, epsilon_0, mu_0\n",
    "from scipy.optimize import brentq"
   ]
  },
  {
   "cell_type": "code",
   "execution_count": 2,
   "metadata": {
    "collapsed": false
   },
   "outputs": [],
   "source": [
    "def f0(R0):\n",
    "    # unperturbed frequency, Pozar pp 290, \n",
    "    # TM(n, m, l): f = c/(2*pi) * sqrt( (p_nm/a)**2 + (l*pi/d)**2)\n",
    "    # p_nm - m-th root of J_n\n",
    "    p_01 = jn_zeros(0, 1)[0]\n",
    "    f = c/(2*pi) * p_01/R0\n",
    "    return f"
   ]
  },
  {
   "cell_type": "code",
   "execution_count": 3,
   "metadata": {
    "collapsed": false
   },
   "outputs": [],
   "source": [
    "def f_perturbed(R0, R1, eps_r):\n",
    "    # simple perturbation theory for solid rod inserted, Li, Akyel, Bosisio;\n",
    "    # http://dx.doi.org/10.1109/TMTT.1981.1130496\n",
    "    # eps_p - 1 = 2*J_1^2(x_01)*df/f * R0^2/R1^2\n",
    "    p_01 = jn_zeros(0, 1)[0]\n",
    "    df_rel = (eps_r-1) / (2*jn(1, p_01)**2) * R1**2/R0**2\n",
    "    f = f0(R0)*(1-df_rel)\n",
    "    return f"
   ]
  },
  {
   "cell_type": "code",
   "execution_count": 4,
   "metadata": {
    "collapsed": false
   },
   "outputs": [],
   "source": [
    "def f_Li(R0, R1, R2, eps_r, eps_g):\n",
    "    # Li, Lukac theory:\n",
    "    # http://dx.doi.org/10.1109/TMTT.1981.1130496\n",
    "    eps_1 = eps_r\n",
    "    eps_2 = eps_g\n",
    "    def eq(fs):\n",
    "        k0 = 2*pi*fs/c\n",
    "        k = [k0, sqrt(eps_1)*k0, sqrt(eps_2)*k0]\n",
    "        R = [R0, R1, R2]\n",
    "        def J(n, p, q): return jn(n, k[p]*R[q])\n",
    "        def Y(n, p, q): return yn(n, k[p]*R[q])\n",
    "        A = sqrt(eps_2) * (J(0,0,0)*Y(0,0,2) - J(0,0,2)*Y(0,0,0)) / (J(0,0,0)*Y(1,0,2) - J(1,0,2)*Y(0,0,0))\n",
    "        nom = J(1,2,1)*Y(0,2,2) - Y(1,2,1)*J(0,2,2) - A*(J(1,2,1)*Y(1,2,2) - Y(1,2,1)*J(1,2,2))\n",
    "        den = J(0,2,1)*Y(0,2,2) - Y(0,2,1)*J(0,2,2) - A*(J(0,2,1)*Y(1,2,2) - Y(0,2,1)*J(1,2,2))\n",
    "        F = sqrt(eps_2)*k0*nom/den\n",
    "        lhs = k[1]*J(1,1,1)/J(0,1,1)\n",
    "        return lhs-F\n",
    "    \n",
    "    #print(eq(f0(R0)*0.5), eq(f0(R0)*1.2))\n",
    "    f = brentq(eq, f0(R0)*0.3, f0(R0)*1.2)\n",
    "    return f\n"
   ]
  },
  {
   "cell_type": "code",
   "execution_count": 5,
   "metadata": {
    "collapsed": false
   },
   "outputs": [],
   "source": [
    "def printcols(c1, c2):\n",
    "        print(\"%s%s\" % (c1.ljust(45),c2))\n",
    "def print_params(R, f1, f2, R1=None, R2=None):\n",
    "    if R is not None:\n",
    "        printcols(\"Radius of empty cavity for 2.45 GHz\", \"r = %.2f mm\" % (R*1e3))\n",
    "    if R1 is not None:\n",
    "        printcols(\"Sapphire inner radius\", \"R1 = %.2f mm\" % (R1*1e3))\n",
    "    if R2 is not None:\n",
    "        printcols(\"Sapphire outer radius\", \"R2 = %.2f mm\" % (R2*1e3))\n",
    "    if f1 is not None:\n",
    "        printcols(\"Unperturbed frequency\",\"f = %.3f GHz\" % (f1/1e9))\n",
    "    if isinstance(f2, tuple):\n",
    "        printcols(\"Frequency with tube\", \"f = %.3f -- %.3f GHz\" % (f2[0]/1e9, f2[1]/1e9))\n",
    "    else:\n",
    "        printcols(\"Frequency with tube\", \"f = %.3f GHz\" % (f2/1e9,))\n",
    "    "
   ]
  },
  {
   "cell_type": "code",
   "execution_count": 6,
   "metadata": {
    "collapsed": true
   },
   "outputs": [],
   "source": [
    "# dielectric sample inserted in TM010 cavity\n",
    "# n, m, l - angular, radial, axial\n",
    "\n",
    "f_target = 2.45e9\n",
    "f_measured = 2.52e9\n",
    "\n",
    "f_hole = 26e6 # calculated correction for presence of holes in the resonator\n",
    "\n",
    "eps_r = 1     # vacuum relative perimittivity"
   ]
  },
  {
   "cell_type": "markdown",
   "metadata": {},
   "source": [
    "### Empty cavity for 2.45 GHz"
   ]
  },
  {
   "cell_type": "code",
   "execution_count": 7,
   "metadata": {
    "collapsed": false
   },
   "outputs": [
    {
     "name": "stdout",
     "output_type": "stream",
     "text": [
      "Radius of empty cavity for 2.45 GHz          r = 46.83 mm\n",
      "Unperturbed frequency                        f = 2.450 GHz\n",
      "Frequency with tube                          f = 2.029 GHz\n"
     ]
    }
   ],
   "source": [
    "# calculate optimal cavity radius for targed freq\n",
    "R0 = brentq(lambda x: f0(x)-f_target, 30e-3, 70e-3)\n",
    "R1 = 11.2e-3\n",
    "R2 = 12.6e-3 # containing tube radius\n",
    "eps_g = 10\n",
    "\n",
    "print_params(R0, f0(R0), f_Li(R0, R1, R2, eps_r, eps_g))"
   ]
  },
  {
   "cell_type": "markdown",
   "metadata": {},
   "source": [
    "### Test cavity initial design"
   ]
  },
  {
   "cell_type": "code",
   "execution_count": 8,
   "metadata": {
    "collapsed": false
   },
   "outputs": [
    {
     "name": "stdout",
     "output_type": "stream",
     "text": [
      "Radius of empty cavity for 2.45 GHz          r = 36.00 mm\n",
      "Unperturbed frequency                        f = 3.187 GHz\n",
      "Frequency with tube                          f = 2.437 GHz\n"
     ]
    }
   ],
   "source": [
    "R0 = 36.e-3\n",
    "R1 = 11.e-3\n",
    "R2 = 12.5e-3 # containing tube radius\n",
    "eps_g = 10\n",
    "\n",
    "print_params(R0, f0(R0), f_Li(R0, R1, R2, eps_r, eps_g))"
   ]
  },
  {
   "cell_type": "markdown",
   "metadata": {},
   "source": [
    "### More realistic calculation of current resonator frequency\n",
    "\n",
    "More accurate dimensions of the used tube, accounting for the holes in the resonator and for parallel and perpendicular orientations of the sapphire optical axis w.r.t. the tube axis."
   ]
  },
  {
   "cell_type": "code",
   "execution_count": 9,
   "metadata": {
    "collapsed": false
   },
   "outputs": [
    {
     "name": "stdout",
     "output_type": "stream",
     "text": [
      "Sapphire inner radius                        R1 = 11.29 mm\n",
      "Sapphire outer radius                        R2 = 12.59 mm\n",
      "Unperturbed frequency                        f = 3.213 GHz\n",
      "Frequency with tube                          f = 2.455 -- 2.573 GHz\n"
     ]
    }
   ],
   "source": [
    "R0 = 36e-3\n",
    "R2 = (25.05+25.25+25.10+25.30)/8*1e-3   # diameter measurements\n",
    "R1 = R2 - (1.2+1.4)/2*1e-3              # thickness measurements\n",
    "eps_g_perp = 9.3                        # average permittivity perpendicular to optical axis\n",
    "eps_g_para = 11.5                       # permittivity along optical axis\n",
    "                                        # http://www.crytur.cz/materials/sapphire/\n",
    "                                        # eps = 11.5 parallel to c axis\n",
    "                                        # eps = 9.3 perpendicular to c axis\n",
    "\n",
    "print_params(None, f_hole + f0(R0), (f_hole + f_Li(R0, R1, R2, eps_r, eps_g_para),\n",
    "    f_hole + f_Li(R0, R1, R2, eps_r, eps_g_perp)), R1=R1, R2=R2)"
   ]
  },
  {
   "cell_type": "markdown",
   "metadata": {},
   "source": [
    "### Test cavity - actual sapphire permittivity?"
   ]
  },
  {
   "cell_type": "code",
   "execution_count": 10,
   "metadata": {
    "collapsed": false
   },
   "outputs": [
    {
     "name": "stdout",
     "output_type": "stream",
     "text": [
      "Sapphire permittivity to match f_measured    eps_g = 10.253863\n",
      "Unperturbed frequency                        f = 3.187 GHz\n",
      "Frequency with tube                          f = 2.520 GHz\n",
      "\n",
      "Corrected cavity radius to match f_target    R0 = 37.378996 mm\n",
      "Unperturbed frequency                        f = 3.070 GHz\n",
      "Frequency with tube                          f = 2.450 GHz\n"
     ]
    }
   ],
   "source": [
    "eps_g = brentq(lambda x: f_hole + f_Li(R0, R1, R2, eps_r, x)-f_measured, 5, 15)\n",
    "printcols(\"Sapphire permittivity to match f_measured\", \"eps_g = %f\" % (eps_g))\n",
    "print_params(None, f0(R0), f_hole + f_Li(R0, R1, R2, eps_r, eps_g))\n",
    "\n",
    "R0 = brentq(lambda x: f_hole + f_Li(x, R1, R2, eps_r, eps_g)-f_target, 30e-3, 50e-3)\n",
    "print()\n",
    "printcols(\"Corrected cavity radius to match f_target\", \"R0 = %f mm\" % (R0*1e3))\n",
    "print_params(None, f0(R0), f_hole+f_Li(R0, R1, R2, eps_r, eps_g))"
   ]
  },
  {
   "cell_type": "markdown",
   "metadata": {},
   "source": [
    "### Test cavity - actual sapphire outer radius assuming parallel orientation?"
   ]
  },
  {
   "cell_type": "code",
   "execution_count": 11,
   "metadata": {
    "collapsed": false,
    "scrolled": true
   },
   "outputs": [
    {
     "name": "stdout",
     "output_type": "stream",
     "text": [
      "Sapphire outer radius                        R2 = 12.38 mm\n",
      "Unperturbed frequency                        f = 3.187 GHz\n",
      "Frequency with tube                          f = 2.520 GHz\n",
      "\n",
      "Corrected cavity radius to match f_target    R0 = 37.354852 mm\n",
      "Unperturbed frequency                        f = 3.072 GHz\n",
      "Frequency with tube                          f = 2.450 GHz\n"
     ]
    }
   ],
   "source": [
    "R0 = 36e-3\n",
    "eps_g = eps_g_para\n",
    "R2 = brentq(lambda x: f_Li(R0, R1, x, eps_r, eps_g)-f_measured, R1, R1*1.5)\n",
    "print_params(None, f0(R0), f_Li(R0, R1, R2, eps_r, eps_g), R2=R2)\n",
    "\n",
    "print()\n",
    "R0 = brentq(lambda x: f_Li(x, R1, R2, eps_r, eps_g)-f_target, 30e-3, 50e-3)\n",
    "printcols(\"Corrected cavity radius to match f_target\", \"R0 = %f mm\" % (R0*1e3))\n",
    "print_params(None, f0(R0), f_Li(R0, R1, R2, eps_r, eps_g))"
   ]
  },
  {
   "cell_type": "markdown",
   "metadata": {},
   "source": [
    "## Corrected resonator dimensions\n",
    "\n",
    "I propose to use 36.8 mm as the final resonator cavity diameter. In this case the theoretical frequency range is:"
   ]
  },
  {
   "cell_type": "code",
   "execution_count": 12,
   "metadata": {
    "collapsed": false
   },
   "outputs": [
    {
     "name": "stdout",
     "output_type": "stream",
     "text": [
      "Frequency with tube                          f = 2.415 -- 2.531 GHz\n"
     ]
    }
   ],
   "source": [
    "R0_new = 36.8e-3\n",
    "R2 = (25.05+25.25+25.10+25.30)/8*1e-3 # diameter measurements\n",
    "R1 = R2 - (1.2+1.4)/2*1e-3            # thickness measurements\n",
    "\n",
    "print_params(None, None, (f_hole + f_Li(R0_new, R1, R2, eps_r, eps_g_para),\n",
    "    f_hole + f_Li(R0_new, R1, R2, eps_r, eps_g_perp)))"
   ]
  },
  {
   "cell_type": "markdown",
   "metadata": {},
   "source": [
    "Taking into account manufacturing tolerances 0.2 mm, and thermal contraction of aluminum of 0.4 % at cryogenic temperatures compared to room temperature:"
   ]
  },
  {
   "cell_type": "code",
   "execution_count": 13,
   "metadata": {
    "collapsed": false
   },
   "outputs": [
    {
     "name": "stdout",
     "output_type": "stream",
     "text": [
      "Frequency with tube                          f = 2.406 -- 2.542 GHz\n"
     ]
    }
   ],
   "source": [
    "R0_min = (R0_new - 0.2e-3) * (1 - 4e-4)\n",
    "R0_max = R0_new + .2e-3\n",
    "print_params(None, None, (f_hole + f_Li(R0_max, R1, R2, eps_r, eps_g_para),\n",
    "    f_hole + f_Li(R0_min, R1, R2, eps_r, eps_g_perp)))"
   ]
  },
  {
   "cell_type": "markdown",
   "metadata": {},
   "source": [
    "The measured frequency will be shifted to (blaming the sapphire permittivity... :):"
   ]
  },
  {
   "cell_type": "code",
   "execution_count": 14,
   "metadata": {
    "collapsed": false
   },
   "outputs": [
    {
     "name": "stdout",
     "output_type": "stream",
     "text": [
      "Frequency with tube                          f = 2.479 GHz\n"
     ]
    }
   ],
   "source": [
    "R0 = 36e-3\n",
    "eps_g = brentq(lambda x: f_hole + f_Li(R0, R1, R2, eps_r, x)-f_measured, 5, 15)\n",
    "print_params(None, None, f_hole + f_Li(R0_new, R1, R2, eps_r, eps_g))"
   ]
  },
  {
   "cell_type": "markdown",
   "metadata": {},
   "source": [
    "and it should lie in the range:"
   ]
  },
  {
   "cell_type": "code",
   "execution_count": 15,
   "metadata": {
    "collapsed": false
   },
   "outputs": [
    {
     "name": "stdout",
     "output_type": "stream",
     "text": [
      "Frequency with tube                          f = 2.469 -- 2.490 GHz\n"
     ]
    }
   ],
   "source": [
    "print_params(None, None, (f_hole + f_Li(R0_max, R1, R2, eps_r, eps_g),\n",
    "    f_hole + f_Li(R0_min, R1, R2, eps_r, eps_g)))"
   ]
  },
  {
   "cell_type": "markdown",
   "metadata": {},
   "source": [
    "which is within the range of our synthesizer and amplifier"
   ]
  }
 ],
 "metadata": {
  "kernelspec": {
   "display_name": "Python 3",
   "language": "python",
   "name": "python3"
  },
  "language_info": {
   "codemirror_mode": {
    "name": "ipython",
    "version": 3
   },
   "file_extension": ".py",
   "mimetype": "text/x-python",
   "name": "python",
   "nbconvert_exporter": "python",
   "pygments_lexer": "ipython3",
   "version": "3.5.2"
  }
 },
 "nbformat": 4,
 "nbformat_minor": 0
}
