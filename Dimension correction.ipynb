{
 "cells": [
  {
   "cell_type": "code",
   "execution_count": 30,
   "metadata": {
    "collapsed": false
   },
   "outputs": [],
   "source": [
    "from numpy import *\n",
    "from scipy.special import jn, yn, jvp, yvp, jn_zeros\n",
    "from scipy.constants import c, epsilon_0, mu_0\n",
    "from scipy.optimize import brentq\n"
   ]
  },
  {
   "cell_type": "code",
   "execution_count": 5,
   "metadata": {
    "collapsed": false
   },
   "outputs": [],
   "source": []
  },
  {
   "cell_type": "code",
   "execution_count": 6,
   "metadata": {
    "collapsed": false
   },
   "outputs": [],
   "source": [
    "def f0(R0):\n",
    "    # unperturbed frequency\n",
    "    # Pozar pp 290, \n",
    "    # TM(n, m, l): f = c/(2*pi) * sqrt( (p_nm/a)**2 + (l*pi/d)**2)\n",
    "    # p_nm - m-th root of J_n\n",
    "    p_01 = jn_zeros(0, 1)[0]\n",
    "    f = c/(2*pi) * p_01/R0\n",
    "    return f"
   ]
  },
  {
   "cell_type": "code",
   "execution_count": 12,
   "metadata": {
    "collapsed": false
   },
   "outputs": [],
   "source": [
    "def f_perturbed(R0, R1, eps_r):\n",
    "    # simple perturbation theory for solid rod inserted, Li, Akyel, Bosisio;\n",
    "    # Precise Calculations and Measurements on the Complex Dielectric Constant of Lossy\n",
    "    # Materials Using TMOIO Cavity Perturbation Techniques, IEEE, 1981:\n",
    "    # eps_p - 1 = 2*J_1^2(x_01)*df/f * R0^2/R1^2\n",
    "    p_01 = jn_zeros(0, 1)[0]\n",
    "    df_rel = (eps_r-1) / (2*jn(1, p_01)**2) * R1**2/R0**2\n",
    "    f = f0(R0)*(1-df_rel)\n",
    "    return f"
   ]
  },
  {
   "cell_type": "code",
   "execution_count": 45,
   "metadata": {
    "collapsed": false
   },
   "outputs": [],
   "source": [
    "def f_Li(R0, R1, R2, eps_r, eps_g):\n",
    "    # Li, Lukac theory:\n",
    "    eps_1 = eps_r\n",
    "    eps_2 = eps_g\n",
    "    def eq(fs):\n",
    "        k0 = 2*pi*fs/c\n",
    "        k = [k0, sqrt(eps_1)*k0, sqrt(eps_2)*k0]\n",
    "        R = [R0, R1, R2]\n",
    "        def J(n, p, q): return jn(n, k[p]*R[q])\n",
    "        def Y(n, p, q): return yn(n, k[p]*R[q])\n",
    "        A = sqrt(eps_2) * (J(0,0,0)*Y(0,0,2) - J(0,0,2)*Y(0,0,0)) / (J(0,0,0)*Y(1,0,2) - J(1,0,2)*Y(0,0,0))\n",
    "        nom = J(1,2,1)*Y(0,2,2) - Y(1,2,1)*J(0,2,2) - A*(J(1,2,1)*Y(1,2,2) - Y(1,2,1)*J(1,2,2))\n",
    "        den = J(0,2,1)*Y(0,2,2) - Y(0,2,1)*J(0,2,2) - A*(J(0,2,1)*Y(1,2,2) - Y(0,2,1)*J(1,2,2))\n",
    "        F = sqrt(eps_2)*k0*nom/den\n",
    "        lhs = k[1]*J(1,1,1)/J(0,1,1)\n",
    "        return lhs-F\n",
    "    \n",
    "    from scipy.optimize import brentq\n",
    "    f = brentq(eq, f0(R0)*0.5, f0(R0)*1.2)\n",
    "    return f\n"
   ]
  },
  {
   "cell_type": "code",
   "execution_count": 49,
   "metadata": {
    "collapsed": true
   },
   "outputs": [],
   "source": [
    "# dielectric sample inserted in TM010 cavity\n",
    "# n, m, l - angular, radial, axial\n",
    "n, m, l = 0, 1, 0\n",
    "\n",
    "f_target = 2.45e9\n",
    "f_measured = 2.55e9"
   ]
  },
  {
   "cell_type": "markdown",
   "metadata": {},
   "source": [
    "### Empty cavity"
   ]
  },
  {
   "cell_type": "code",
   "execution_count": 35,
   "metadata": {
    "collapsed": false
   },
   "outputs": [
    {
     "name": "stdout",
     "output_type": "stream",
     "text": [
      "Radius of empty cavity for 2.45 GHz\n",
      "r = 46.833685 mm\n",
      "Unperturbed frequency\n",
      "f = 2.450000 GHz\n",
      "Frequency with tube\n",
      "f = 2.007178 GHz\n"
     ]
    }
   ],
   "source": [
    "# calculate optimal cavity radius\n",
    "R0 = brentq(lambda x: f0(x)-f_target, 30e-3, 70e-3)\n",
    "R1 = 11.0e-3\n",
    "R2 = 12.5e-3 # containing tube radius\n",
    "eps_r = 1\n",
    "eps_g = 10\n",
    "\n",
    "\n",
    "print(\"Radius of empty cavity for 2.45 GHz\")\n",
    "print(\"r = %f mm\" % (R0*1e3))\n",
    "\n",
    "print(\"Unperturbed frequency\")\n",
    "print(\"f = %f GHz\" % (f0(R0)/1e9))\n",
    "\n",
    "print(\"Frequency with tube\")\n",
    "print(\"f = %f GHz\" % (f_Li(R0, R1, R2, eps_r, eps_g)/1e9))"
   ]
  },
  {
   "cell_type": "markdown",
   "metadata": {},
   "source": [
    "### Test cavity design"
   ]
  },
  {
   "cell_type": "code",
   "execution_count": 37,
   "metadata": {
    "collapsed": false
   },
   "outputs": [
    {
     "name": "stdout",
     "output_type": "stream",
     "text": [
      "Radius of test cavity\n",
      "r = 36.000000 mm\n",
      "Unperturbed frequency\n",
      "f = 3.187292 GHz\n",
      "Frequency with tube\n",
      "f = 2.436911 GHz\n"
     ]
    }
   ],
   "source": [
    "R0 = 36.0e-3\n",
    "R1 = 11.0e-3\n",
    "R2 = 12.5e-3 # containing tube radius\n",
    "eps_r = 1\n",
    "eps_g = 10\n",
    "\n",
    "print(\"Radius of test cavity\")\n",
    "print(\"r = %f mm\" % (R0*1e3))\n",
    "\n",
    "print(\"Unperturbed frequency\")\n",
    "print(\"f = %f GHz\" % (f0(R0)/1e9))\n",
    "\n",
    "print(\"Frequency with tube\")\n",
    "print(\"f = %f GHz\" % (f_Li(R0, R1, R2, eps_r, eps_g)/1e9))"
   ]
  },
  {
   "cell_type": "markdown",
   "metadata": {},
   "source": [
    "### Test cavity - actual sapphire permittivity?"
   ]
  },
  {
   "cell_type": "code",
   "execution_count": 53,
   "metadata": {
    "collapsed": false
   },
   "outputs": [
    {
     "name": "stdout",
     "output_type": "stream",
     "text": [
      "Sapphire permittivity to match the measured frequency\n",
      "eps = 8.189117\n",
      "Unperturbed frequency\n",
      "f = 3.187292 GHz\n",
      "Frequency with tube\n",
      "f = 2.550000 GHz\n",
      "\n",
      "Corrected cavity radius to match the target frequency\n",
      "R0 = 37.918811 mm\n",
      "Unperturbed frequency\n",
      "f = 3.026005 GHz\n",
      "Frequency with tube\n",
      "f = 2.450000 GHz\n"
     ]
    }
   ],
   "source": [
    "R0 = 36.0e-3\n",
    "R1 = 11.0e-3\n",
    "R2 = 12.5e-3 # containing tube radius\n",
    "eps_r = 1\n",
    "eps_g = brentq(lambda x: f_Li(R0, R1, R2, eps_r, x)-f_measured, 5, 15)\n",
    "#print(f_Li(R0, R1, R2, eps_r, 15)/1e9)\n",
    "print(\"Sapphire permittivity to match the measured frequency\")\n",
    "print(\"eps = %f\" % (eps_g))\n",
    "\n",
    "print(\"Unperturbed frequency\")\n",
    "print(\"f = %f GHz\" % (f0(R0)/1e9))\n",
    "\n",
    "print(\"Frequency with tube\")\n",
    "print(\"f = %f GHz\" % (f_Li(R0, R1, R2, eps_r, eps_g)/1e9))\n",
    "\n",
    "print()\n",
    "# corrected cavity radius to match the target\n",
    "R0 = brentq(lambda x: f_Li(x, R1, R2, eps_r, eps_g)-f_target, 30e-3, 50e-3)\n",
    "print(\"Corrected cavity radius to match the target frequency\")\n",
    "print(\"R0 = %f mm\" % (R0*1e3))\n",
    "\n",
    "print(\"Unperturbed frequency\")\n",
    "print(\"f = %f GHz\" % (f0(R0)/1e9))\n",
    "\n",
    "print(\"Frequency with tube\")\n",
    "print(\"f = %f GHz\" % (f_Li(R0, R1, R2, eps_r, eps_g)/1e9))"
   ]
  },
  {
   "cell_type": "markdown",
   "metadata": {},
   "source": [
    "### Test cavity - actual sapphire outer radius?"
   ]
  },
  {
   "cell_type": "code",
   "execution_count": 65,
   "metadata": {
    "collapsed": false,
    "scrolled": true
   },
   "outputs": [
    {
     "name": "stdout",
     "output_type": "stream",
     "text": [
      "Sapphire outer radius to match the measured frequency\n",
      "R2 = 12.199596 mm\n",
      "Unperturbed frequency\n",
      "f = 3.187292 GHz\n",
      "Frequency with tube\n",
      "f = 2.550000 GHz\n",
      "\n",
      "Corrected cavity radius to match the target frequency\n",
      "R0 = 37.926949 mm\n",
      "Unperturbed frequency\n",
      "f = 3.025356 GHz\n",
      "Frequency with tube\n",
      "f = 2.450000 GHz\n"
     ]
    }
   ],
   "source": [
    "eps_r = 1\n",
    "eps_g = 10\n",
    "R0 = 36.0e-3\n",
    "R1 = 11.0e-3\n",
    "R2 = brentq(lambda x: f_Li(R0, R1, x, eps_r, eps_g)-f_measured, R1, R1*1.5)\n",
    "\n",
    "print(\"Sapphire outer radius to match the measured frequency\")\n",
    "print(\"R2 = %f mm\" % (R2*1e3))\n",
    "\n",
    "print(\"Unperturbed frequency\")\n",
    "print(\"f = %f GHz\" % (f0(R0)/1e9))\n",
    "\n",
    "print(\"Frequency with tube\")\n",
    "print(\"f = %f GHz\" % (f_Li(R0, R1, R2, eps_r, eps_g)/1e9))\n",
    "\n",
    "print()\n",
    "# corrected cavity radius to match the target\n",
    "R0 = brentq(lambda x: f_Li(x, R1, R2, eps_r, eps_g)-f_target, 30e-3, 50e-3)\n",
    "print(\"Corrected cavity radius to match the target frequency\")\n",
    "print(\"R0 = %f mm\" % (R0*1e3))\n",
    "\n",
    "print(\"Unperturbed frequency\")\n",
    "print(\"f = %f GHz\" % (f0(R0)/1e9))\n",
    "\n",
    "print(\"Frequency with tube\")\n",
    "print(\"f = %f GHz\" % (f_Li(R0, R1, R2, eps_r, eps_g)/1e9))"
   ]
  },
  {
   "cell_type": "code",
   "execution_count": 67,
   "metadata": {
    "collapsed": false
   },
   "outputs": [
    {
     "name": "stdout",
     "output_type": "stream",
     "text": [
      "Unperturbed frequency\n",
      "f = 3.187292 GHz\n",
      "Frequency with tube\n",
      "f = 2.319312 GHz\n"
     ]
    }
   ],
   "source": [
    "\n",
    "# http://www.crytur.cz/materials/sapphire/\n",
    "# eps = 11.5 parallel to c axis\n",
    "# eps = 9.3 perpendicular to c axis\n",
    "# assume cylindrical symmetry\n",
    "# tube outer radius: 25.3 -- 25.05 mm\n",
    "# tube inner radius 22.20 mm\n",
    "eps_r = 1\n",
    "\n",
    "eps_g = 11.5\n",
    "R0 = 36.0e-3\n",
    "R1 = 11.1e-3\n",
    "R2 = 12.69e-3\n",
    "\n",
    "print(\"Unperturbed frequency\")\n",
    "print(\"f = %f GHz\" % (f0(R0)/1e9))\n",
    "\n",
    "print(\"Frequency with tube\")\n",
    "print(\"f = %f GHz\" % (f_Li(R0, R1, R2, eps_r, eps_g)/1e9))"
   ]
  },
  {
   "cell_type": "code",
   "execution_count": null,
   "metadata": {
    "collapsed": true
   },
   "outputs": [],
   "source": []
  }
 ],
 "metadata": {
  "kernelspec": {
   "display_name": "Python 3",
   "language": "python",
   "name": "python3"
  },
  "language_info": {
   "codemirror_mode": {
    "name": "ipython",
    "version": 3
   },
   "file_extension": ".py",
   "mimetype": "text/x-python",
   "name": "python",
   "nbconvert_exporter": "python",
   "pygments_lexer": "ipython3",
   "version": "3.5.2"
  }
 },
 "nbformat": 4,
 "nbformat_minor": 0
}
