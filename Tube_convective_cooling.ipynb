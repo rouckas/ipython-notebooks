{
 "metadata": {
  "name": "",
  "signature": "sha256:3f10f00fedd2fc5e1790b64385ec57f92c202afe8ad9913db0bd6aa390b27879"
 },
 "nbformat": 3,
 "nbformat_minor": 0,
 "worksheets": [
  {
   "cells": [
    {
     "cell_type": "markdown",
     "metadata": {},
     "source": [
      "Heat transfer estimate\n",
      "----------------------\n",
      "\n",
      "Heat transfer rate $q$ for an object cooled by convection is given by\n",
      "$$q = \\bar h A (T_s - T_\\infty)$$\n",
      "where\n",
      "+ $\\bar h$ is the average convection coefficient\n",
      "+ $A$ is the surface area\n",
      "+ $T_s$ and $T_\\infty$ are temperatures of the surface and the medium repectively\n",
      "\n",
      "The convection coefficient can be determined from the empirical Nusselt number $\\rm Nu$.\n",
      "$${\\rm Nu} = \\frac{hL}{k}$$\n",
      "where\n",
      "+ $L$ is the characteristic dimension, $L=D$, diameter of cylinder\n",
      "+ $k$ is the heat conductivity of the fluid"
     ]
    },
    {
     "cell_type": "code",
     "collapsed": false,
     "input": [
      "from numpy import *\n",
      "from __future__ import print_function\n",
      "from IPython.display import Math"
     ],
     "language": "python",
     "metadata": {},
     "outputs": [],
     "prompt_number": 1
    },
    {
     "cell_type": "code",
     "collapsed": false,
     "input": [
      "Ts = 350.\n",
      "Ti = 300.\n",
      "\n",
      "# equations are evaluated at the film temperature\n",
      "#Tf = 0.5*(Ts+Ti)\n",
      "# AHTT  pp396\n",
      "# only beta should be evaluated at Ti\n",
      "C = 0.38\n",
      "Tf = Ts - C*(Ts-Ti)\n",
      "\n",
      "\n",
      "def interp(T, c1, c2, T1=300., T2=400.):\n",
      "    ci1 = (T-T1)/(T2-T1)*c1\n",
      "    ci2 = (T-T2)/(T1-T2)*c2\n",
      "    return ci1+ci2\n",
      "\n",
      "# tube outer diameter and length\n",
      "D = 0.026     # m\n",
      "L = 0.360     # m\n",
      "\n",
      "k300 = 0.0262   # W m^-1 K^-1 Air at 300K, 1 bar \n",
      "k400 = 0.033 # W m^-1 K^-1 Air at 400K, 1 bar\n",
      "k = lambda T: interp(T, k300, k400)\n",
      "# The thermal conductivity of fluid air,\n",
      "# Stephan and Laesecke, J. Phys. Chem. Ref. Data. Vol. 14, No. 1, 1985, p227\n",
      "# www.nist.gov/data/PDFfiles/jpcrd269.pdf"
     ],
     "language": "python",
     "metadata": {},
     "outputs": [],
     "prompt_number": 2
    },
    {
     "cell_type": "markdown",
     "metadata": {},
     "source": [
      "The empirical formula for average Nusselt number of a horizontal cylinder by Churchill and Chu, [see A heat transfer textbook, pp 418, Lienhard, JH IV and Lienhard, JH V http://web.mit.edu/lienhard/www/ahtt.html ] is\n",
      "$${\\rm \\bar Nu} = 0.36 + \\frac{0.518 \\,{\\rm Ra}^{1/4}}{[1+(0.559/{\\rm Pr})^{9/16}]^{4/9}}$$\n",
      "where $\\rm Ra$ and $\\rm Pr$ are the Rayleigh and Prandtl numbers respectively\n",
      "$${\\rm Pr} = \\frac{c_p\\mu}{k}$$\n",
      "$${\\rm Ra} = {\\rm Gr\\cdot Pr}$$\n",
      "where\n",
      "+ $c_p$ is specific heat\n",
      "+ $\\mu$ is dynamic viscosity [$\\rm Pa\\,s$]\n",
      "+ $\\rm Gr$ is the Grashof number\n",
      "$${\\rm Gr} = \\frac{g\\beta(T_s-T_\\infty)D^3}{\\nu^2}$$\n",
      "\n",
      "where\n",
      "+ $g$ is gravitational acceleration\n",
      "+ $\\beta$ is volumetric thermal expansion coefficient $\\approx 1/T$\n",
      "+ $\\nu = \\mu/\\rho$ is the kinematic viscosity"
     ]
    },
    {
     "cell_type": "code",
     "collapsed": false,
     "input": [
      "def interp(T, c1, c2, T1=300., T2=400.):\n",
      "    ci1 = (T-T2)/float(T1-T2)*c1\n",
      "    ci2 = (T-T1)/float(T2-T1)*c2\n",
      "    return ci1+ci2\n",
      "\n",
      "mu300 = 18.57*1e-6    # Pa s Air at 300K, 1 bar\n",
      "mu400 = 23.10*1e-6    # Pa s Air at 400K, 1 bar\n",
      "mu = lambda T: interp(T, mu300, mu400)\n",
      "# Viscosity and thermal conductivity of dry air in the gaseous phase\n",
      "# Kadoya, Matsunaga, Nagashima\n",
      "# J. Phys. Chem. Ref. Data. Vol. 14, No. 4, 1985, p947\n",
      "\n",
      "cp300 = 1.005*1e3     # J kg^-1 K^-1\n",
      "cp400 = 1.013*1e3     # J kg^-1 K^-1\n",
      "cp = lambda T: interp(T, cp300, cp400)\n",
      "# http://www.engineeringtoolbox.com/air-properties-d_156.html\n",
      "\n",
      "g = 9.81              # m s^-2\n",
      "\n",
      "beta = lambda T: 1./T   # K^-1\n",
      "rho = lambda T: 1.16*300./T  # kg m^-3\n",
      "\n",
      "nu = lambda T: mu(T)/rho(T)        # checked with the engineering toolbox value\n",
      "alpha = lambda T: k(T)/(rho(T)*cp(T))\n",
      "\n",
      "Pr = lambda T: cp(T)*mu(T)/k(T) # checked with the engineering toolbox value\n",
      "Gr = lambda Tf, Ts, Ti: g*beta(Ti)*(Ts-Ti)*D**3/nu(Tf)**2\n",
      "Ra = lambda Tf, Ts, Ti: Pr(Tf)*Gr(Tf, Ts, Ti)\n",
      "Ra2 = lambda Tf, Ts, Ti: g*beta(Ti)*(Ts-Ti)*D**3/(alpha(Tf)*nu(Tf))\n",
      "print(\"nu =\", nu(Tf))\n",
      "\n",
      "# checking two equivalent definitions\n",
      "print(\"Ra =\", Ra(Tf, Ts, Ti))\n",
      "print(\"Ra2 =\", Ra2(Tf, Ts, Ti))"
     ],
     "language": "python",
     "metadata": {},
     "outputs": [
      {
       "output_type": "stream",
       "stream": "stdout",
       "text": [
        "nu = 1.89985439655e-05\n",
        "Ra = 56597.3346599\n",
        "Ra2 = 56597.3346599\n"
       ]
      }
     ],
     "prompt_number": 3
    },
    {
     "cell_type": "markdown",
     "metadata": {},
     "source": [
      "OK, the formula for Nusselt number is valid in the range $10^{-6} \\leq{\\rm Ra}\\leq 10^9$"
     ]
    },
    {
     "cell_type": "code",
     "collapsed": false,
     "input": [
      "Nu = lambda Tf, Ts, Ti: 0.36 + 0.518 * Ra(Tf, Ts, Ti)**(1./4)/(1+(0.559/Pr(Tf))**(9./16))**(4./9)\n",
      "print(\"Nu =\", Nu(Tf, Ts, Ti))\n",
      "\n",
      "# heat transfer coeff:\n",
      "h = lambda Tf, Ts, Ti: Nu(Tf, Ts, Ti)*k(Tf)/D\n",
      "print(\"h =\", h(Tf, Ts, Ti), \"W m^-2 K^-1\")\n",
      "\n",
      "A = pi*D*L\n",
      "q = h(Tf, Ts, Ti)*A*(Ts-Ti)\n",
      "print(q)"
     ],
     "language": "python",
     "metadata": {},
     "outputs": [
      {
       "output_type": "stream",
       "stream": "stdout",
       "text": [
        "Nu = 6.40429028339\n",
        "h = 6.97279420547 W m^-2 K^-1\n",
        "10.2518577958\n"
       ]
      }
     ],
     "prompt_number": 4
    },
    {
     "cell_type": "markdown",
     "metadata": {},
     "source": [
      "Heat flux through the glass is then\n",
      "$$q_g = \\frac{A}{t}k_g(T_d-T_s)$$\n",
      "where\n",
      "+ $T_d$ is temperature inside the discharge tube\n",
      "+ $k_g$ is heat conductivity of the tube\n",
      "+ $t$ is the thickness of the tube walls\n",
      "\n",
      "Equating this to $q$ gives the temperature inside the tube:\n",
      "$$T_d = T_s + q\\frac{t}{Ak_g}$$"
     ]
    },
    {
     "cell_type": "code",
     "collapsed": false,
     "input": [
      "kg = 1.005   # W m^-1 K^-1 pyrex http://www.engineeringtoolbox.com/thermal-conductivity-d_429.html\n",
      "t = 0.002\n",
      "\n",
      "Td = Ts + q*t/(A*kg)\n",
      "print(\"Td =\", Td)"
     ],
     "language": "python",
     "metadata": {},
     "outputs": [
      {
       "output_type": "stream",
       "stream": "stdout",
       "text": [
        "Td = 350.693810369\n"
       ]
      }
     ],
     "prompt_number": 5
    },
    {
     "cell_type": "markdown",
     "metadata": {},
     "source": [
      "So the temperature difference on the tube wall is just $\\approx 0.7\\;\\rm K$"
     ]
    }
   ],
   "metadata": {}
  }
 ]
}