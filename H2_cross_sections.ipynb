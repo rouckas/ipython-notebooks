{
 "metadata": {
  "name": "",
  "signature": "sha256:e57999395ff6af2987e74a72548b9688e04c40fb206c3d16ec45beac321e3769"
 },
 "nbformat": 3,
 "nbformat_minor": 0,
 "worksheets": [
  {
   "cells": [
    {
     "cell_type": "code",
     "collapsed": false,
     "input": [
      "%matplotlib inline\n",
      "from numpy import *\n",
      "from pylab import *"
     ],
     "language": "python",
     "metadata": {},
     "outputs": [],
     "prompt_number": 1
    },
    {
     "cell_type": "code",
     "collapsed": false,
     "input": [
      "def load_CS(fname, csname):\n",
      "    \"\"\"load collision cross section from the Phelps' database stored in file fname\"\"\"\n",
      "    import re\n",
      "    fr = open(fname)\n",
      "    CS = []\n",
      "    \n",
      "    # find the CS in file\n",
      "    for line in fr:\n",
      "        if csname in line:\n",
      "            break\n",
      "          \n",
      "    for line in fr:\n",
      "        if \"ENERGY LOSS =\" in line:\n",
      "            Eloss = float(re.search(\"ENERGY LOSS =\\s+(\\S+)\", line).group(1))\n",
      "        if \" ENERGY\" in line:\n",
      "            break\n",
      "            \n",
      "    for line in fr:\n",
      "        match = re.search(\"\\s+(\\S+)\\s+(\\S+)\\s+(\\S+)\", line)\n",
      "        if match:\n",
      "            CS.append([float(match.group(2)), float(match.group(3))])\n",
      "        else:\n",
      "            break\n",
      "            \n",
      "    CS = array(CS)\n",
      "    return Eloss, CS"
     ],
     "language": "python",
     "metadata": {},
     "outputs": [],
     "prompt_number": 34
    },
    {
     "cell_type": "code",
     "collapsed": false,
     "input": [
      "#test how it works\n",
      "fname = \"data/ELECTRON.TXT\"\n",
      "Eloss, CS = load_CS(fname, \"H2  J=0-J=2\")\n",
      "loglog(CS[:,0], CS[:,1])"
     ],
     "language": "python",
     "metadata": {},
     "outputs": [
      {
       "metadata": {},
       "output_type": "pyout",
       "prompt_number": 48,
       "text": [
        "[<matplotlib.lines.Line2D at 0x7f052290de10>]"
       ]
      },
      {
       "metadata": {},
       "output_type": "display_data",
       "png": "[encoded data removed]",
       "text": [
        "<matplotlib.figure.Figure at 0x7f05223dcd50>"
       ]
      }
     ],
     "prompt_number": 48
    },
    {
     "cell_type": "markdown",
     "metadata": {},
     "source": [
      "In thermodynamic equilibrium, the rate \"r\" of a certain process and the rate $r'$ of its inverse must be the same, i.e.\n",
      "$$r = r'.$$\n",
      "Our process of interest is inelastic collision of electron\n",
      "$${\\rm e^- + A \\to e^- + B},\\quad\\Delta H.$$\n",
      "The equilibrium condition then reads\n",
      "$$k[{\\rm e^-}][{\\rm A}] = k'[{\\rm e^-}][{\\rm B}]$$\n",
      "In equilibrium, the concentrations will follow the Boltzmann distribution. In case that $\\rm A$ and $\\rm B$ are different rotational states, we must account for the state multiplicities:\n",
      "$$\\frac{[{\\rm A}]}{[{\\rm B}]} = \\frac{(2J_A+1)\\exp(-E_A/k_BT)}{(2J_B+1)\\exp(-E_B/k_BT)} = \\frac{(2J_A+1)}{(2J_B+1)}\n",
      "\\exp\\left(\\frac{\\Delta H}{k_B T}\\right),$$\n",
      "where $\\Delta H = E_B-E_A$. Therefore, the equlibrium condition is\n",
      "$$\\frac{k'}{k} = \\frac{(2J_A+1)}{(2J_B+1)}\\exp\\left(\\frac{\\Delta H}{k_B T}\\right),$$\n",
      "From this, also a condition for cross sections can be derived\n",
      "$$\\sigma'(E) = \\sigma(E-\\Delta H)\\frac{(2J_A+1)}{(2J_B+1)}\\frac{E-\\Delta H}{E}$$\n",
      "And we may check the resulting cross section:"
     ]
    },
    {
     "cell_type": "code",
     "collapsed": false,
     "input": [
      "Ji = 0\n",
      "Jf = 2\n",
      "\n",
      "CS2 = CS.copy()\n",
      "CS2[:,0] = CS2[:,0] - Eloss\n",
      "CS2[:,1] *= (2*Ji+1.)/(2*Jf+1.)*(CS2[:,0]+Eloss)/(CS2[:,0])\n",
      "\n",
      "loglog(CS2[:,0], CS2[:,1])\n",
      "loglog(CS[:,0], CS[:,1])"
     ],
     "language": "python",
     "metadata": {},
     "outputs": [
      {
       "output_type": "stream",
       "stream": "stderr",
       "text": [
        "-c:6: RuntimeWarning: invalid value encountered in multiply\n"
       ]
      },
      {
       "metadata": {},
       "output_type": "pyout",
       "prompt_number": 50,
       "text": [
        "[<matplotlib.lines.Line2D at 0x7f05218ac650>]"
       ]
      },
      {
       "metadata": {},
       "output_type": "display_data",
       "png": "[encoded data removed]",
       "text": [
        "<matplotlib.figure.Figure at 0x7f05218d9750>"
       ]
      }
     ],
     "prompt_number": 50
    },
    {
     "cell_type": "markdown",
     "metadata": {},
     "source": [
      "However, we are eventually more interested in the collision rate $k$, which is obtained by caluclating the average\n",
      "$\\langle\\sigma v\\rangle$\n",
      "over the distibution of collision velocities"
     ]
    },
    {
     "cell_type": "code",
     "collapsed": false,
     "input": [
      "M_EL =  9.109534e-31\n",
      "K_B = 1.380662e-23\n",
      "Q_EL = -1.602189e-19\n",
      "Q0 = -Q_EL\n",
      "AMU = 1.67e-27\n",
      "Te = 20000\n",
      "def mxw_v(v,T=Te,M=M_EL):\n",
      "    v_max = sqrt(2.0*K_B*T/M)\n",
      "    return exp(-v**2/v_max**2)/(v_max*sqrt(pi))**3*v**2*4*pi"
     ],
     "language": "python",
     "metadata": {},
     "outputs": [],
     "prompt_number": 51
    },
    {
     "cell_type": "code",
     "collapsed": false,
     "input": [
      "\n",
      "def rate_calc(CS, TeV):\n",
      "    from scipy.integrate import quad\n",
      "    from scipy.interpolate import interp1d\n",
      "\n",
      "    # obtain sigma as function of velocity\n",
      "    E = CS[:,0]\n",
      "    sigma = CS[:,1]\n",
      "    \n",
      "    v = sqrt(2*E*Q0/M_EL)\n",
      "    fsigmav = sigma*v*mxw_v(v, TeV*Q0/K_B, M_EL)\n",
      "    \n",
      "    left = arange(0, len(v)-1)\n",
      "    right = left+1\n",
      "    dv = v[right] - v[left]\n",
      "    rate = 0.5*sum(dv*(fsigmav[left]+fsigmav[right]))\n",
      "    # CS are in 1e-16 cm^2 = 1e-20 m^2\n",
      "    # [rate*1e-20] = m^3/s\n",
      "    # [rate*1e-20*1e6] = cm^3/s\n",
      "    rate = rate*1e-14\n",
      "    print rate\n",
      "    \n",
      "    loglog(v, fsigmav)\n",
      "    ylim(1e-10, 1e0)\n",
      "    #CS_interp = interp1d(, CS[:,1])\n",
      "    #Emin = \n",
      "\n",
      "# excitation rate at electron temperature kT = 1eV\n",
      "rate_calc(CS, 1.)\n",
      "    "
     ],
     "language": "python",
     "metadata": {},
     "outputs": [
      {
       "output_type": "stream",
       "stream": "stdout",
       "text": [
        "1.80593815636e-09\n"
       ]
      },
      {
       "metadata": {},
       "output_type": "display_data",
       "png": "[encoded data removed]",
       "text": [
        "<matplotlib.figure.Figure at 0x7f0522f18790>"
       ]
      }
     ],
     "prompt_number": 60
    },
    {
     "cell_type": "code",
     "collapsed": false,
     "input": [],
     "language": "python",
     "metadata": {},
     "outputs": []
    }
   ],
   "metadata": {}
  }
 ]
}