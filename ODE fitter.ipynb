{
 "cells": [
  {
   "cell_type": "code",
   "execution_count": 91,
   "metadata": {},
   "outputs": [],
   "source": [
    "import lmfit\n",
    "import numpy as np\n",
    "from scipy.integrate import odeint"
   ]
  },
  {
   "cell_type": "code",
   "execution_count": 92,
   "metadata": {},
   "outputs": [],
   "source": [
    "def fitfunc(p, x):\n",
    "        p = p.valuesdict()\n",
    "        dndt = lambda y, x: -p[\"aeff\"]*y**2-p[\"rloss\"]*y\n",
    "        return odeint(dndt, p[\"n0\"], x, mxstep=10000).ravel()"
   ]
  },
  {
   "cell_type": "code",
   "execution_count": 93,
   "metadata": {},
   "outputs": [],
   "source": [
    "def errfunc(p, x, ydata, ydata_stderr):\n",
    "    return (fitfunc(p, x) - ydata)/ydata_stderr"
   ]
  },
  {
   "cell_type": "code",
   "execution_count": 94,
   "metadata": {},
   "outputs": [],
   "source": [
    "params = lmfit.Parameters()\n",
    "params.add(\"aeff\", 2e-7, min=0)\n",
    "params.add(\"rloss\", 1000, min=0)\n",
    "params.add(\"n0\", 8e10)"
   ]
  },
  {
   "cell_type": "code",
   "execution_count": 95,
   "metadata": {},
   "outputs": [],
   "source": [
    "data = np.array([\n",
    "    [1e-4, 7e10, 1e10],\n",
    "    [1.5e-4, 4e10, 1e10],\n",
    "    [2e-4, 3e10, 5e9],\n",
    "    [3e-4, 2e10, 5e9],\n",
    "    [4e-4, 1.2e10, 5e9],\n",
    "    [6e-4, .7e10, 3e9],\n",
    "])"
   ]
  },
  {
   "cell_type": "code",
   "execution_count": 96,
   "metadata": {},
   "outputs": [
    {
     "name": "stdout",
     "output_type": "stream",
     "text": [
      "[[Fit Statistics]]\n",
      "    # fitting method   = leastsq\n",
      "    # function evals   = 19\n",
      "    # data points      = 6\n",
      "    # variables        = 3\n",
      "    chi-square         = 0.20607719\n",
      "    reduced chi-square = 0.06869240\n",
      "    Akaike info crit   = -14.2275838\n",
      "    Bayesian info crit = -14.8523053\n",
      "[[Variables]]\n",
      "    aeff:   1.5605e-07 +/- 2.3429e-08 (15.01%) (init = 2e-07)\n",
      "    rloss:  1334.92646 +/- 603.862022 (45.24%) (init = 1000)\n",
      "    n0:     6.9297e+10 +/- 2.5687e+09 (3.71%) (init = 8e+10)\n",
      "[[Correlations]] (unreported correlations are < 0.100)\n",
      "    C(aeff, rloss) = -0.917\n",
      "    C(aeff, n0)    =  0.398\n",
      "    C(rloss, n0)   = -0.241\n"
     ]
    }
   ],
   "source": [
    "res = lmfit.minimize(errfunc, params, args=(data[:,0], data[:,1], data[:,2]))\n",
    "lmfit.report_fit(res)"
   ]
  },
  {
   "cell_type": "code",
   "execution_count": 97,
   "metadata": {},
   "outputs": [
    {
     "data": {
      "text/plain": [
       "[<matplotlib.lines.Line2D at 0x7f5b4d2784a8>]"
      ]
     },
     "execution_count": 97,
     "metadata": {},
     "output_type": "execute_result"
    },
    {
     "data": {
      "image/png": "[encoded data removed]",
      "text/plain": [
       "<matplotlib.figure.Figure at 0x7f5b4d278588>"
      ]
     },
     "metadata": {},
     "output_type": "display_data"
    }
   ],
   "source": [
    "import matplotlib.pyplot as plt\n",
    "plt.errorbar(data[:,0], data[:,1], yerr=data[:,2], fmt=\"o\")\n",
    "\n",
    "t = np.linspace(data[0,0], data[-1,0])\n",
    "plt.plot(t, fitfunc(res.params, t))\n"
   ]
  },
  {
   "cell_type": "code",
   "execution_count": null,
   "metadata": {},
   "outputs": [],
   "source": []
  }
 ],
 "metadata": {
  "kernelspec": {
   "display_name": "Python 3",
   "language": "python",
   "name": "python3"
  },
  "language_info": {
   "codemirror_mode": {
    "name": "ipython",
    "version": 3
   },
   "file_extension": ".py",
   "mimetype": "text/x-python",
   "name": "python",
   "nbconvert_exporter": "python",
   "pygments_lexer": "ipython3",
   "version": "3.6.8"
  }
 },
 "nbformat": 4,
 "nbformat_minor": 2
}
