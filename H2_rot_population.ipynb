{
 "metadata": {
  "name": "",
  "signature": "sha256:1c154dadd9b04be7799e3b79a61b6f7413ca3850be4f1cd67a7bf966c71be3f4"
 },
 "nbformat": 3,
 "nbformat_minor": 0,
 "worksheets": [
  {
   "cells": [
    {
     "cell_type": "markdown",
     "metadata": {},
     "source": [
      "Notebook calculating the rotational population of normal H$_2$"
     ]
    },
    {
     "cell_type": "code",
     "collapsed": false,
     "input": [
      "%matplotlib inline\n",
      "from pylab import *\n",
      "from numpy import *"
     ],
     "language": "python",
     "metadata": {},
     "outputs": [],
     "prompt_number": 1
    },
    {
     "cell_type": "code",
     "collapsed": false,
     "input": [
      "kB = 1.3806488e-23  # m^2 kg s^-2 K^-1\n",
      "h = 6.62606957e-34  # m^2 kg s^-1\n",
      "c = 299792458.      # m s^-1\n",
      "eV2cm = 8065.54445  # http://physics.nist.gov/Pubs/AtSpec/node01.html\n",
      "cm2J = 100*h*c"
     ],
     "language": "python",
     "metadata": {},
     "outputs": [],
     "prompt_number": 5
    },
    {
     "cell_type": "markdown",
     "metadata": {},
     "source": [
      "Energy levels of D$_2$ from e.g. \n",
      "http://kicp.uchicago.edu/~odom/molecule_database/H2/molecular%20hydrogen%20and%20isotopes%20excited%20state%20spectra.pdf"
     ]
    },
    {
     "cell_type": "code",
     "collapsed": false,
     "input": [
      "class diatom:\n",
      "    def __init__(self, omega_e = 0.0, omega_x_e = 0.0, B_e = 0.0, alpha_e = 0.0, D_e = 0.0):\n",
      "        self.omega_e, self.omega_x_e = omega_e, omega_x_e\n",
      "        self.B_e, self.alpha_e, self.D_e = B_e, alpha_e, D_e\n",
      "    def F(self, J, v=0):\n",
      "        B = self.B_e - self.alpha_e*(v+0.5)\n",
      "        D = self.D_e\n",
      "        return B*J*(J+1) - D*(J*(J+1))**2\n",
      "    def _bfactor(self, T, J):\n",
      "        return (2*J+1)*exp(-self.F(J)*h*c*100/(kB*T))\n",
      "    def Z(self, T, Jmax=10):\n",
      "        return sum(self._bfactor(T, arange(Jmax)))\n",
      "    def N(self, T, J):\n",
      "        return self._bfactor(T, J)/self.Z(T)\n",
      "H2 = diatom(4401.213, 121.336, 60.8530, 3.0622, 4.71e-2)\n",
      "J = arange(20)\n",
      "E = H2.F(J)*cm2J"
     ],
     "language": "python",
     "metadata": {},
     "outputs": [],
     "prompt_number": 7
    },
    {
     "cell_type": "code",
     "collapsed": false,
     "input": [
      "# define the ortho and para indices\n",
      "p = J % 2 == 0\n",
      "o = ~p\n",
      "\n",
      "# degeneracy factor:\n",
      "g = ones_like(J)\n",
      "g[~p] = 3"
     ],
     "language": "python",
     "metadata": {},
     "outputs": [],
     "prompt_number": 9
    },
    {
     "cell_type": "markdown",
     "metadata": {},
     "source": [
      "The partition function can be written as a sum of ortho and para partition functions:\n",
      "$$Z_o(T) = \\sum_{J\\rm odd} (2J+1)g_o\\exp\\left(-\\frac{E_J}{k_BT}\\right);\\quad g_o=3$$\n",
      "$$Z_p(T) = \\sum_{J\\rm even} (2J+1)g_p\\exp\\left(-\\frac{E_J}{k_BT}\\right);\\quad g_p=1$$\n",
      "$$Z(T) = Z_o(T) + Z_p(T)$$"
     ]
    },
    {
     "cell_type": "code",
     "collapsed": false,
     "input": [
      "@vectorize\n",
      "def Zo(T):\n",
      "    return sum((2*J[o]+1)*3*exp(-E[o]/(kB*T)))\n",
      "\n",
      "@vectorize\n",
      "def Zp(T):\n",
      "    return sum((2*J[p]+1)*1*exp(-E[p]/(kB*T)))\n",
      "\n",
      "@vectorize\n",
      "def Z(T):\n",
      "    return sum((2*J+1)*g*exp(-E/(kB*T)), axis=0)"
     ],
     "language": "python",
     "metadata": {},
     "outputs": [],
     "prompt_number": 10
    },
    {
     "cell_type": "code",
     "collapsed": false,
     "input": [
      "# equilibrium concentrations of para/ortho D2\n",
      "T = linspace(1, 100)\n",
      "plot(T, Zo(T)/Z(T), label=\"ortho\")\n",
      "plot(T, Zp(T)/Z(T), label=\"para\")\n",
      "xlabel(\"T [K]\")\n",
      "ylabel(\"f\")\n",
      "legend()"
     ],
     "language": "python",
     "metadata": {},
     "outputs": [
      {
       "metadata": {},
       "output_type": "pyout",
       "prompt_number": 11,
       "text": [
        "<matplotlib.legend.Legend at 0x7f1536170f10>"
       ]
      },
      {
       "metadata": {},
       "output_type": "display_data",
       "png": "[encoded data removed]",
       "text": [
        "<matplotlib.figure.Figure at 0x7f15361cd410>"
       ]
      }
     ],
     "prompt_number": 11
    },
    {
     "cell_type": "code",
     "collapsed": false,
     "input": [
      "# fractions in normal H2\n",
      "T0 = 300.\n",
      "fo = Zo(T0)/Z(T0)\n",
      "fp = Zp(T0)/Z(T0)\n",
      "print fo, fp"
     ],
     "language": "python",
     "metadata": {},
     "outputs": [
      {
       "output_type": "stream",
       "stream": "stdout",
       "text": [
        "0.749282924045 0.250717075955\n"
       ]
      }
     ],
     "prompt_number": 12
    },
    {
     "cell_type": "markdown",
     "metadata": {},
     "source": [
      "As expected, the fractions at $300\\;\\rm K$ are close to the statistical ratio $1:3$.\n",
      "\n",
      "Equilibrium concentration of $J$-th rot. ortho state, with $f_o$ fraction of ortho-H$_2$:\n",
      "$$N(J, T) = \\frac{f_o}{Z_o(T)}(2J+1)g_o\\exp\\left(-\\frac{E_J}{k_BT}\\right)$$\n",
      "and similarly for para-H$_2$..."
     ]
    },
    {
     "cell_type": "code",
     "collapsed": false,
     "input": [
      "def N(J, T):\n",
      "    Z = o[J]*Zo(T)/fo + p[J]*Zp(T)/fp\n",
      "    return (2*J+1)*g[J]*exp(-E[J]/(kB*T))/Z"
     ],
     "language": "python",
     "metadata": {},
     "outputs": [],
     "prompt_number": 13
    },
    {
     "cell_type": "code",
     "collapsed": false,
     "input": [
      "T = linspace(1, 300)\n",
      "for i in range(6):\n",
      "    fmt = \":\" if o[i] else \"-\"\n",
      "    plot(T, N(i, T), fmt, label=\"J = %d\"%i)\n",
      "xlabel(\"T [K]\")\n",
      "ylabel(\"relative fraction\")\n",
      "legend()\n",
      "savefig(\"fraction.pdf\")"
     ],
     "language": "python",
     "metadata": {},
     "outputs": [
      {
       "metadata": {},
       "output_type": "display_data",
       "png": "[encoded data removed]",
       "text": [
        "<matplotlib.figure.Figure at 0x7f15361bafd0>"
       ]
      }
     ],
     "prompt_number": 14
    },
    {
     "cell_type": "code",
     "collapsed": false,
     "input": [
      "outdata = T\n",
      "for i in range(6):\n",
      "    outdata = vstack((outdata, N(i, T)))\n",
      "savetxt(\"rotlevels.txt\", outdata.T)"
     ],
     "language": "python",
     "metadata": {},
     "outputs": [],
     "prompt_number": 32
    },
    {
     "cell_type": "code",
     "collapsed": false,
     "input": [],
     "language": "python",
     "metadata": {},
     "outputs": []
    }
   ],
   "metadata": {}
  }
 ]
}