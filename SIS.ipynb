{
 "cells": [
  {
   "cell_type": "code",
   "execution_count": 1,
   "metadata": {},
   "outputs": [],
   "source": [
    "import requests\n",
    "from lxml import etree\n",
    "import re"
   ]
  },
  {
   "cell_type": "code",
   "execution_count": 2,
   "metadata": {},
   "outputs": [],
   "source": [
    "url = \"https://is.cuni.cz/studium/rozvrhng/sez_predmet.php?skr=2017&sem=1&fak=11320&ustav_mode=text&ustav=32-KFPP\"\n",
    "response = requests.get(url)"
   ]
  },
  {
   "cell_type": "code",
   "execution_count": 3,
   "metadata": {},
   "outputs": [],
   "source": [
    "#tree = html.fromstring(response.content)\n",
    "tree = etree.fromstring(response.content, etree.HTMLParser())"
   ]
  },
  {
   "cell_type": "code",
   "execution_count": 4,
   "metadata": {},
   "outputs": [],
   "source": [
    "rows = tree.xpath('//table[@id=\"table1\"]/tr[@class!=\"head1\"]')"
   ]
  },
  {
   "cell_type": "code",
   "execution_count": 5,
   "metadata": {},
   "outputs": [],
   "source": [
    "vykaz = {}\n",
    "for tr in rows:\n",
    "    cls = tr.xpath(\"./@class\")[0]\n",
    "    \n",
    "    if cls == \"head2\":\n",
    "        head = tr.xpath(\"./td/a/span/text()\")[0]\n",
    "        vykaz[head] = {\"podily\":{}, \"studenti\":None}\n",
    "        #print(head)\n",
    "        \n",
    "    if cls in [\"row1\", \"row2\"]:\n",
    "        cells = tr.xpath(\"./td/descendant-or-self::*/text()\")\n",
    "        cells = [\"\".join(td.xpath(\"./descendant-or-self::*/text()\")) for td in tr.xpath(\"./td\")]\n",
    "        \n",
    "        try:\n",
    "            minuty = int(cells[4])\n",
    "        except(ValueError):\n",
    "            minuty = {\n",
    "                \"90 Liché týdny \": 45,\n",
    "                \"90 Liché týdny  (sudé kalendářní)\":45,\n",
    "                \"180 Liché týdny  (sudé kalendářní)\":90,\n",
    "                \"180 Sudé týdny  (liché kalendářní)\":90,\n",
    "            }[cells[4]]\n",
    "        \n",
    "        if re.search(\"\\(\", cells[1]): \n",
    "            podily = [int(i)*0.01*minuty for i in re.findall(\"([0-9]+)\", cells[1])]\n",
    "            jmena = re.findall(\"([^, ()0-9]+[^()0-9]+[^()0-9 ]+)\", cells[1])\n",
    "        else:\n",
    "            podily = [minuty]\n",
    "            jmena = [cells[1]]\n",
    "        for podil, jmeno in zip(podily, jmena):\n",
    "            vykaz[head][\"podily\"][jmeno] = podil + vykaz[head][\"podily\"].get(jmeno, 0)\n",
    "        vykaz[head][\"studenti\"] = int(cells[8])"
   ]
  },
  {
   "cell_type": "code",
   "execution_count": 115,
   "metadata": {
    "scrolled": false
   },
   "outputs": [
    {
     "name": "stdout",
     "output_type": "stream",
     "text": [
      "NEVF106 Řádkovací mikroskopie - STM, AFM 3 studenti\n",
      "     Ošťádal Ivan, doc. RNDr., CSc. 90\n",
      "NEVF108 Moderní trendy ve fyzice povrchů 3 studenti\n",
      "     Mašek Karel, doc. RNDr., Dr. 90\n",
      "NEVF112 Metody zpracování fyzikálních měření 3 studenti\n",
      "     Johánek Viktor, RNDr., Ph.D. 45.0\n",
      "     Mašek Karel, doc. RNDr., Dr. 45.0\n",
      "NEVF114 Fyzika tenkých vrstev I 2 studenti\n",
      "     Sobotík Pavel, doc. RNDr., CSc. 90\n",
      "NEVF115 Elektronika pro fyziky 4 studenti\n",
      "     Tichý Milan, prof. RNDr., DrSc. 90\n",
      "NEVF121 Horké plazma, problematika fúze 1 studenti\n",
      "     Plašil Radek, doc. RNDr., Ph.D. 90.0\n",
      "     Glosík Juraj, prof. RNDr., DrSc. 0.0\n",
      "NEVF122 Fyzika plazmatu I 6 studenti\n",
      "     Glosík Juraj, prof. RNDr., DrSc. 72.0\n",
      "     Dohnal Petr, Mgr., Ph.D. 9.0\n",
      "     Roučka Štěpán, RNDr., Ph.D. 9.0\n",
      "NEVF126 Vakuová fyzika 2 studenti\n",
      "     Gronych Tomáš, RNDr., CSc. 90\n",
      "     Pavlů Jiří, doc. RNDr., Ph.D. 45\n",
      "NEVF129 Fyzika povrchů 4 studenti\n",
      "     Pavluch Jiří, doc. RNDr., CSc. 63.00000000000001\n",
      "     Nehasil Václav, doc. RNDr., Dr. 72.0\n",
      "NEVF135 Programování v IDL - zpracování a vizualizace dat 4 studenti\n",
      "     Němec František, RNDr., Ph.D. 76.5\n",
      "     Přech Lubomír, doc. RNDr., Dr. 13.5\n",
      "NEVF141 Základy počítačové fyziky I 5 studenti\n",
      "     Hrach Rudolf, prof. RNDr., DrSc. 90.0\n",
      "     Plašil Radek, doc. RNDr., Ph.D. 90.0\n",
      "NEVF148 Molekulová a iontová spektroskopie 3 studenti\n",
      "     Wild Jan, doc. RNDr., CSc. 90\n",
      "NEVF151 Diplomový seminář FPP I 3 studenti\n",
      "     Wild Jan, doc. RNDr., CSc. 45.0\n",
      "     Šafránková Jana, prof. RNDr., DrSc. 45.0\n",
      "NEVF152 Diplomový seminář FPP III 2 studenti\n",
      "     Mašek Karel, doc. RNDr., Dr. 45\n",
      "NEVF156 Počítačové modelování ve fyzice plazmatu I 1 studenti\n",
      "     Hrach Rudolf, prof. RNDr., DrSc. 67.5\n",
      "     Hrachová Věra, doc. RNDr., CSc. 67.5\n",
      "NEVF160 Moderní počítačová fyzika I 2 studenti\n",
      "     Kudrna Pavel, doc. Mgr., Dr. 67.5\n",
      "     Plašil Radek, doc. RNDr., Ph.D. 67.5\n",
      "     Hrach Rudolf, prof. RNDr., DrSc. 0.0\n",
      "NEVF162 Laserová absorpční spektroskopie plazmatu 1 studenti\n",
      "     Dohnal Petr, Mgr., Ph.D. 90.0\n",
      "     Glosík Juraj, prof. RNDr., DrSc. 0.0\n",
      "     Plašil Radek, doc. RNDr., Ph.D. 0.0\n",
      "NEVF191 Odborné soustředění I 5 studenti\n",
      "     Wild Jan, doc. RNDr., CSc., Šafránková Jana, prof. RNDr., DrSc. 90\n",
      "NEVF192 Odborné soustředění II 2 studenti\n",
      "     Wild Jan, doc. RNDr., CSc., Šafránková Jana, prof. RNDr., DrSc. 90\n",
      "NEVF501 Nízkoteplotní plazma a jeho aplikace 6 studenti\n",
      "     Hrachová Věra, doc. RNDr., CSc. 90.0\n",
      "     Rohlena Karel, RNDr., CSc. 0.0\n",
      "NEVF502 Elementární procesy v plazmatu 4 studenti\n",
      "     Glosík Juraj, prof. RNDr., DrSc. 81.0\n",
      "     Roučka Štěpán, RNDr., Ph.D. 9.0\n",
      "NEVF503 Měřící metody, modelování a zpracování experimentálních dat 9 studenti\n",
      "     Němeček Zdeněk, prof. RNDr., DrSc. 45.0\n",
      "     Santolík Ondřej, prof. RNDr., Dr. 45.0\n",
      "NEVF514 Fyzika povrchů 2 studenti\n",
      "     Máca František, RNDr., CSc. 45.0\n",
      "     Velický Bedřich, prof., CSc. 45.0\n",
      "NEVF516 Metody fyziky povrchů a tenkých vrstev II 3 studenti\n",
      "     Ošťádal Ivan, doc. RNDr., CSc. 90\n",
      "NEVF517 Seminář fyziky povrchů a tenkých vrstev 3 studenti\n",
      "     Kocán Pavel, doc. RNDr., Ph.D. 90.0\n",
      "     Ošťádal Ivan, doc. RNDr., CSc. 0.0\n",
      "NEVF518 Úvod do fyziky plazmatu 1 studenti\n",
      "     Glosík Juraj, prof. RNDr., DrSc. 90\n",
      "NEVF550 Odborné soustředění 16 studenti\n",
      "     Wild Jan, doc. RNDr., CSc., Šafránková Jana, prof. RNDr., DrSc. 90\n"
     ]
    }
   ],
   "source": [
    "for predmet, data in vykaz.items():\n",
    "    if data[\"studenti\"] == 0: continue\n",
    "    print(predmet, data[\"studenti\"], \"studenti\")\n",
    "    for ucitel, podil in data[\"podily\"].items():\n",
    "        print(\" \"*4, ucitel, podil)"
   ]
  },
  {
   "cell_type": "code",
   "execution_count": null,
   "metadata": {},
   "outputs": [],
   "source": []
  }
 ],
 "metadata": {
  "kernelspec": {
   "display_name": "Python 3",
   "language": "python",
   "name": "python3"
  },
  "language_info": {
   "codemirror_mode": {
    "name": "ipython",
    "version": 3
   },
   "file_extension": ".py",
   "mimetype": "text/x-python",
   "name": "python",
   "nbconvert_exporter": "python",
   "pygments_lexer": "ipython3",
   "version": "3.6.3"
  }
 },
 "nbformat": 4,
 "nbformat_minor": 1
}
