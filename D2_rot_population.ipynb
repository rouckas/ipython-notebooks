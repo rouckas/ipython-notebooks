{
 "metadata": {
  "name": "",
  "signature": "sha256:b09eb99b4a110885e463ac32ac91bdea7c37cb01b7e18995aeb052a90af7d0f8"
 },
 "nbformat": 3,
 "nbformat_minor": 0,
 "worksheets": [
  {
   "cells": [
    {
     "cell_type": "markdown",
     "metadata": {},
     "source": [
      "Notebook calculating the rotational population of normal D$_2$"
     ]
    },
    {
     "cell_type": "code",
     "collapsed": false,
     "input": [
      "%matplotlib inline\n",
      "from pylab import *\n",
      "from numpy import *"
     ],
     "language": "python",
     "metadata": {},
     "outputs": [],
     "prompt_number": 23
    },
    {
     "cell_type": "code",
     "collapsed": false,
     "input": [
      "kB = 1.3806488e-23  # m^2 kg s^-2 K^-1\n",
      "h = 6.62606957e-34  # m^2 kg s^-1\n",
      "c = 299792458.      # m s^-1"
     ],
     "language": "python",
     "metadata": {},
     "outputs": [],
     "prompt_number": 24
    },
    {
     "cell_type": "markdown",
     "metadata": {},
     "source": [
      "Energy levels of D$_2$ from e.g. \n",
      "http://kicp.uchicago.edu/~odom/molecule_database/H2/molecular%20hydrogen%20and%20isotopes%20excited%20state%20spectra.pdf"
     ]
    },
    {
     "cell_type": "code",
     "collapsed": false,
     "input": [
      "J = arange(10)\n",
      "E = array([0, 59.79, 179.01, 357.25, 593.64, 887.08, 1236.38, 1640.09, 2096.36, 2603.45])*100.*h*c  # cm^-1 -> J"
     ],
     "language": "python",
     "metadata": {},
     "outputs": [],
     "prompt_number": 25
    },
    {
     "cell_type": "code",
     "collapsed": false,
     "input": [
      "# define the ortho and para indices\n",
      "o = J % 2 == 0\n",
      "p = ~o\n",
      "\n",
      "# degeneracy factor:\n",
      "g = ones_like(J)\n",
      "g[~p] = 2"
     ],
     "language": "python",
     "metadata": {},
     "outputs": [],
     "prompt_number": 26
    },
    {
     "cell_type": "markdown",
     "metadata": {},
     "source": [
      "The partition function can be written as a sum of ortho and para partition functions:\n",
      "$$Z_o(T) = \\sum_{J\\rm even} (2J+1)g_o\\exp\\left(-\\frac{E_J}{k_BT}\\right);\\quad g_o=2$$\n",
      "$$Z_p(T) = \\sum_{J\\rm even} (2J+1)g_p\\exp\\left(-\\frac{E_J}{k_BT}\\right);\\quad g_p=1$$\n",
      "$$Z(T) = Z_o(T) + Z_p(T)$$"
     ]
    },
    {
     "cell_type": "code",
     "collapsed": false,
     "input": [
      "@vectorize\n",
      "def Zo(T):\n",
      "    return sum((2*J[o]+1)*2*exp(-E[o]/(kB*T)))\n",
      "\n",
      "@vectorize\n",
      "def Zp(T):\n",
      "    return sum((2*J[p]+1)*1*exp(-E[p]/(kB*T)))\n",
      "\n",
      "@vectorize\n",
      "def Z(T):\n",
      "    return sum((2*J+1)*g*exp(-E/(kB*T)), axis=0)"
     ],
     "language": "python",
     "metadata": {},
     "outputs": [],
     "prompt_number": 27
    },
    {
     "cell_type": "code",
     "collapsed": false,
     "input": [
      "# equilibrium concentrations of para/ortho D2\n",
      "T = linspace(1, 100)\n",
      "plot(T, Zo(T)/Z(T), label=\"ortho\")\n",
      "plot(T, Zp(T)/Z(T), label=\"para\")\n",
      "xlabel(\"T [K]\")\n",
      "ylabel(\"f\")\n",
      "legend()"
     ],
     "language": "python",
     "metadata": {},
     "outputs": [
      {
       "metadata": {},
       "output_type": "pyout",
       "prompt_number": 28,
       "text": [
        "<matplotlib.legend.Legend at 0x7fcab1bff450>"
       ]
      },
      {
       "metadata": {},
       "output_type": "display_data",
       "png": "[encoded data removed]",
       "text": [
        "<matplotlib.figure.Figure at 0x7fcab1bffad0>"
       ]
      }
     ],
     "prompt_number": 28
    },
    {
     "cell_type": "code",
     "collapsed": false,
     "input": [
      "# fractions in normal D2\n",
      "T0 = 300.\n",
      "fo = Zo(T0)/Z(T0)\n",
      "fp = Zp(T0)/Z(T0)\n",
      "print fo, fp"
     ],
     "language": "python",
     "metadata": {},
     "outputs": [
      {
       "output_type": "stream",
       "stream": "stdout",
       "text": [
        "0.666691069681 0.333308930319\n"
       ]
      }
     ],
     "prompt_number": 29
    },
    {
     "cell_type": "markdown",
     "metadata": {},
     "source": [
      "As expected, the fractions at $300\\;\\rm K$ are close to the statistical ratio $1:2$.\n",
      "\n",
      "Equilibrium concentration of $J$-th rot. ortho state, with $f_o$ fraction of ortho-D$_2$:\n",
      "$$N(J, T) = \\frac{f_o}{Z_o(T)}(2J+1)g_o\\exp\\left(-\\frac{E_J}{k_BT}\\right)$$\n",
      "and similarly for para-D$_2$..."
     ]
    },
    {
     "cell_type": "code",
     "collapsed": false,
     "input": [
      "def N(J, T):\n",
      "    Z = o[J]*Zo(T)/fo + p[J]*Zp(T)/fp\n",
      "    return (2*J+1)*g[J]*exp(-E[J]/(kB*T))/Z"
     ],
     "language": "python",
     "metadata": {},
     "outputs": [],
     "prompt_number": 30
    },
    {
     "cell_type": "code",
     "collapsed": false,
     "input": [
      "T = linspace(1, 300)\n",
      "for i in range(6):\n",
      "    fmt = \":\" if o[i] else \"-\"\n",
      "    plot(T, N(i, T), fmt, label=\"J = %d\"%i)\n",
      "xlabel(\"T [K]\")\n",
      "ylabel(\"relative fraction\")\n",
      "legend()\n",
      "savefig(\"fraction.pdf\")"
     ],
     "language": "python",
     "metadata": {},
     "outputs": [
      {
       "metadata": {},
       "output_type": "display_data",
       "png": "[encoded data removed]",
       "text": [
        "<matplotlib.figure.Figure at 0x7fcab1c184d0>"
       ]
      }
     ],
     "prompt_number": 31
    },
    {
     "cell_type": "code",
     "collapsed": false,
     "input": [
      "outdata = T\n",
      "for i in range(6):\n",
      "    outdata = vstack((outdata, N(i, T)))\n",
      "savetxt(\"rotlevels.txt\", outdata.T)"
     ],
     "language": "python",
     "metadata": {},
     "outputs": [],
     "prompt_number": 32
    },
    {
     "cell_type": "code",
     "collapsed": false,
     "input": [
      "def langevin(alpha, m1, m2):\n",
      "    \"\"\"\n",
      "    Args:\n",
      "        alpha: neutral polarizability [Angstrom^3]\n",
      "                for H2, alpha = 0.786 A^3\n",
      "        m1, m2: reactant masses [amu]\n",
      "    Returns:\n",
      "        langevin reaction rate [cm^3 s^-1]\n",
      "    \"\"\"\n",
      "    mu = m1*m2/float(m1+m2)\n",
      "    return 2.342e-9*sqrt(alpha/mu)\n",
      "\n",
      "# Milenko 1972 77K\n",
      "k_Lang_H2 = langevin(0.7908, 2, 16)\n",
      "k_Lang_D2 = langevin(0.7753, 4, 16)\n",
      "print(k_Lang_H2, k_Lang_D2)"
     ],
     "language": "python",
     "metadata": {},
     "outputs": [
      {
       "output_type": "stream",
       "stream": "stdout",
       "text": [
        "(1.5620016361387077e-09, 1.1527809566977587e-09)\n"
       ]
      }
     ],
     "prompt_number": 33
    },
    {
     "cell_type": "code",
     "collapsed": false,
     "input": [],
     "language": "python",
     "metadata": {},
     "outputs": [],
     "prompt_number": 33
    }
   ],
   "metadata": {}
  }
 ]
}